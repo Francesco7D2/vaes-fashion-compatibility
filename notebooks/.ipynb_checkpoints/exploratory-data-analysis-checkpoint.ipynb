{
 "cells": [
  {
   "cell_type": "markdown",
   "id": "01b6701b-8dda-4f49-84b4-a05fa55cde93",
   "metadata": {},
   "source": [
    "# Fashion compatibility - Data Exploration and Analysis\n",
    "\n",
    "---\n",
    "## Author Information\n",
    "- **Author:** Francesco Tedesco\n",
    "- **Email:** francescotedesco7d2@gmail.com\n",
    "- [**LinkedIn**](https://www.linkedin.com/in/francescotedesco7d2/)\n",
    "\n",
    "---\n",
    "## Overview\n",
    "This notebook explores the dataset to gain insights into the different types of outfits, in order to build a set of possible combinations of outfits for outfits.\n",
    "\n",
    "---\n"
   ]
  },
  {
   "cell_type": "code",
   "execution_count": 1,
   "id": "b318300f-8801-4e8c-a18f-2b831a2dd2ec",
   "metadata": {},
   "outputs": [],
   "source": [
    "import pandas as pd\n",
    "from collections import Counter\n",
    "\n",
    "from pathlib import Path\n",
    "import os\n",
    "\n",
    "os.chdir(str(Path.cwd().parent))\n",
    "\n",
    "from src.utils.setup_utilities import load_config, setup_logging\n",
    "from src.data_processing.group_manipulation import get_grouped_counts\n",
    "from src.data_processing.group_manipulation import get_grouped_counts_feature_values\n",
    "from src.data_processing.group_manipulation import get_unique_sets_features\n",
    "from src.data_processing.product_processing import get_des_product_class\n",
    "\n",
    "config = load_config()"
   ]
  },
  {
   "cell_type": "code",
   "execution_count": 2,
   "id": "b675c1cd-12d9-49b7-88e0-3152b7cd8e16",
   "metadata": {},
   "outputs": [],
   "source": [
    "df_outfits = pd.read_csv(config['data']['outfits_path'])\n",
    "df_products = pd.read_csv(config['data']['products_path'])\n",
    "df_outfit_products = pd.merge(df_outfits, df_products, on = 'cod_modelo_color', how = 'outer')"
   ]
  },
  {
   "cell_type": "markdown",
   "id": "95c86f8b-cd55-4a59-a4ad-b26e5701cfb3",
   "metadata": {},
   "source": [
    "## Initial exploration"
   ]
  },
  {
   "cell_type": "code",
   "execution_count": 3,
   "id": "2d70c8d9-8942-4759-86b9-3620149fd300",
   "metadata": {},
   "outputs": [
    {
     "data": {
      "text/html": [
       "<div>\n",
       "<style scoped>\n",
       "    .dataframe tbody tr th:only-of-type {\n",
       "        vertical-align: middle;\n",
       "    }\n",
       "\n",
       "    .dataframe tbody tr th {\n",
       "        vertical-align: top;\n",
       "    }\n",
       "\n",
       "    .dataframe thead th {\n",
       "        text-align: right;\n",
       "    }\n",
       "</style>\n",
       "<table border=\"1\" class=\"dataframe\">\n",
       "  <thead>\n",
       "    <tr style=\"text-align: right;\">\n",
       "      <th></th>\n",
       "      <th>cod_outfit</th>\n",
       "      <th>cod_modelo_color</th>\n",
       "    </tr>\n",
       "  </thead>\n",
       "  <tbody>\n",
       "    <tr>\n",
       "      <th>0</th>\n",
       "      <td>1</td>\n",
       "      <td>51000622-02</td>\n",
       "    </tr>\n",
       "    <tr>\n",
       "      <th>1</th>\n",
       "      <td>1</td>\n",
       "      <td>43067759-01</td>\n",
       "    </tr>\n",
       "    <tr>\n",
       "      <th>2</th>\n",
       "      <td>1</td>\n",
       "      <td>53060518-02</td>\n",
       "    </tr>\n",
       "    <tr>\n",
       "      <th>3</th>\n",
       "      <td>1</td>\n",
       "      <td>53030594-08</td>\n",
       "    </tr>\n",
       "    <tr>\n",
       "      <th>4</th>\n",
       "      <td>1</td>\n",
       "      <td>43077762-01</td>\n",
       "    </tr>\n",
       "  </tbody>\n",
       "</table>\n",
       "</div>"
      ],
      "text/plain": [
       "   cod_outfit cod_modelo_color\n",
       "0           1      51000622-02\n",
       "1           1      43067759-01\n",
       "2           1      53060518-02\n",
       "3           1      53030594-08\n",
       "4           1      43077762-01"
      ]
     },
     "execution_count": 3,
     "metadata": {},
     "output_type": "execute_result"
    }
   ],
   "source": [
    "df_outfits.head()"
   ]
  },
  {
   "cell_type": "markdown",
   "id": "8ccb575e-de2d-433c-8cd7-379c1871cbc6",
   "metadata": {},
   "source": [
    "The `df_outfits` dataframe contains the codes of each outfit and the products code associated. "
   ]
  },
  {
   "cell_type": "code",
   "execution_count": 4,
   "id": "16dec241-f458-45aa-b3ac-128afabf49a4",
   "metadata": {},
   "outputs": [
    {
     "data": {
      "text/html": [
       "<div>\n",
       "<style scoped>\n",
       "    .dataframe tbody tr th:only-of-type {\n",
       "        vertical-align: middle;\n",
       "    }\n",
       "\n",
       "    .dataframe tbody tr th {\n",
       "        vertical-align: top;\n",
       "    }\n",
       "\n",
       "    .dataframe thead th {\n",
       "        text-align: right;\n",
       "    }\n",
       "</style>\n",
       "<table border=\"1\" class=\"dataframe\">\n",
       "  <thead>\n",
       "    <tr style=\"text-align: right;\">\n",
       "      <th></th>\n",
       "      <th>cod_modelo_color</th>\n",
       "      <th>cod_color_code</th>\n",
       "      <th>des_color_specification_esp</th>\n",
       "      <th>des_agrup_color_eng</th>\n",
       "      <th>des_sex</th>\n",
       "      <th>des_age</th>\n",
       "      <th>des_line</th>\n",
       "      <th>des_fabric</th>\n",
       "      <th>des_product_category</th>\n",
       "      <th>des_product_aggregated_family</th>\n",
       "      <th>des_product_family</th>\n",
       "      <th>des_product_type</th>\n",
       "      <th>des_filename</th>\n",
       "    </tr>\n",
       "  </thead>\n",
       "  <tbody>\n",
       "    <tr>\n",
       "      <th>0</th>\n",
       "      <td>41085800-02</td>\n",
       "      <td>02</td>\n",
       "      <td>OFFWHITE</td>\n",
       "      <td>WHITE</td>\n",
       "      <td>Female</td>\n",
       "      <td>Adult</td>\n",
       "      <td>SHE</td>\n",
       "      <td>P-PLANA</td>\n",
       "      <td>Bottoms</td>\n",
       "      <td>Trousers &amp; leggings</td>\n",
       "      <td>Trousers</td>\n",
       "      <td>Trousers</td>\n",
       "      <td>datathon/images/2019_41085800_02.jpg</td>\n",
       "    </tr>\n",
       "    <tr>\n",
       "      <th>1</th>\n",
       "      <td>53000586-TO</td>\n",
       "      <td>TO</td>\n",
       "      <td>TEJANO OSCURO</td>\n",
       "      <td>BLUE</td>\n",
       "      <td>Female</td>\n",
       "      <td>Adult</td>\n",
       "      <td>SHE</td>\n",
       "      <td>J-JEANS</td>\n",
       "      <td>Bottoms</td>\n",
       "      <td>Jeans</td>\n",
       "      <td>Jeans</td>\n",
       "      <td>Jeans</td>\n",
       "      <td>datathon/images/2019_53000586_TO.jpg</td>\n",
       "    </tr>\n",
       "    <tr>\n",
       "      <th>2</th>\n",
       "      <td>53030601-81</td>\n",
       "      <td>81</td>\n",
       "      <td>ROSA PASTEL</td>\n",
       "      <td>PINK</td>\n",
       "      <td>Female</td>\n",
       "      <td>Adult</td>\n",
       "      <td>SHE</td>\n",
       "      <td>P-PLANA</td>\n",
       "      <td>Dresses, jumpsuits and Complete set</td>\n",
       "      <td>Dresses and jumpsuits</td>\n",
       "      <td>Dresses</td>\n",
       "      <td>Dress</td>\n",
       "      <td>datathon/images/2019_53030601_81.jpg</td>\n",
       "    </tr>\n",
       "    <tr>\n",
       "      <th>3</th>\n",
       "      <td>53050730-15</td>\n",
       "      <td>15</td>\n",
       "      <td>MOSTAZA</td>\n",
       "      <td>YELLOW</td>\n",
       "      <td>Female</td>\n",
       "      <td>Adult</td>\n",
       "      <td>SHE</td>\n",
       "      <td>P-PLANA</td>\n",
       "      <td>Dresses, jumpsuits and Complete set</td>\n",
       "      <td>Dresses and jumpsuits</td>\n",
       "      <td>Dresses</td>\n",
       "      <td>Dress</td>\n",
       "      <td>datathon/images/2019_53050730_15.jpg</td>\n",
       "    </tr>\n",
       "    <tr>\n",
       "      <th>4</th>\n",
       "      <td>53070773-70</td>\n",
       "      <td>70</td>\n",
       "      <td>ROJO</td>\n",
       "      <td>RED</td>\n",
       "      <td>Female</td>\n",
       "      <td>Adult</td>\n",
       "      <td>SHE</td>\n",
       "      <td>P-PLANA</td>\n",
       "      <td>Tops</td>\n",
       "      <td>Shirts</td>\n",
       "      <td>Shirt</td>\n",
       "      <td>Shirt</td>\n",
       "      <td>datathon/images/2019_53070773_70.jpg</td>\n",
       "    </tr>\n",
       "  </tbody>\n",
       "</table>\n",
       "</div>"
      ],
      "text/plain": [
       "  cod_modelo_color cod_color_code des_color_specification_esp  \\\n",
       "0      41085800-02             02                    OFFWHITE   \n",
       "1      53000586-TO             TO               TEJANO OSCURO   \n",
       "2      53030601-81             81                 ROSA PASTEL   \n",
       "3      53050730-15             15                     MOSTAZA   \n",
       "4      53070773-70             70                        ROJO   \n",
       "\n",
       "  des_agrup_color_eng des_sex des_age des_line des_fabric  \\\n",
       "0               WHITE  Female   Adult      SHE    P-PLANA   \n",
       "1                BLUE  Female   Adult      SHE    J-JEANS   \n",
       "2                PINK  Female   Adult      SHE    P-PLANA   \n",
       "3              YELLOW  Female   Adult      SHE    P-PLANA   \n",
       "4                 RED  Female   Adult      SHE    P-PLANA   \n",
       "\n",
       "                  des_product_category des_product_aggregated_family  \\\n",
       "0                              Bottoms           Trousers & leggings   \n",
       "1                              Bottoms                         Jeans   \n",
       "2  Dresses, jumpsuits and Complete set         Dresses and jumpsuits   \n",
       "3  Dresses, jumpsuits and Complete set         Dresses and jumpsuits   \n",
       "4                                 Tops                        Shirts   \n",
       "\n",
       "  des_product_family des_product_type                          des_filename  \n",
       "0           Trousers         Trousers  datathon/images/2019_41085800_02.jpg  \n",
       "1              Jeans            Jeans  datathon/images/2019_53000586_TO.jpg  \n",
       "2            Dresses            Dress  datathon/images/2019_53030601_81.jpg  \n",
       "3            Dresses            Dress  datathon/images/2019_53050730_15.jpg  \n",
       "4              Shirt            Shirt  datathon/images/2019_53070773_70.jpg  "
      ]
     },
     "execution_count": 4,
     "metadata": {},
     "output_type": "execute_result"
    }
   ],
   "source": [
    "df_products.head()"
   ]
  },
  {
   "cell_type": "markdown",
   "id": "27dbe1e5-2246-474a-b177-d6d5c1b6bca4",
   "metadata": {},
   "source": [
    "The `df_products` contains information about each product, including the path to the corresponding images.\n",
    "\n",
    "Some important things to consider: "
   ]
  },
  {
   "cell_type": "code",
   "execution_count": 5,
   "id": "204ece66-b014-4598-adbe-4478833a0f89",
   "metadata": {},
   "outputs": [
    {
     "name": "stdout",
     "output_type": "stream",
     "text": [
      "Total number of outfits: 7842\n"
     ]
    }
   ],
   "source": [
    "print(\"Total number of outfits:\", len(df_outfits['cod_outfit'].unique()))"
   ]
  },
  {
   "cell_type": "code",
   "execution_count": 6,
   "id": "b9706fbe-a2d8-4020-a552-3bdfa8a7669f",
   "metadata": {},
   "outputs": [
    {
     "name": "stdout",
     "output_type": "stream",
     "text": [
      "Total number of products: 9222\n"
     ]
    }
   ],
   "source": [
    "print(\"Total number of products:\", len(df_products['cod_modelo_color'].unique()))"
   ]
  },
  {
   "cell_type": "code",
   "execution_count": 7,
   "id": "7b688b6e-394f-4eaf-8490-c8167d95df93",
   "metadata": {},
   "outputs": [
    {
     "name": "stdout",
     "output_type": "stream",
     "text": [
      "Number of products without an outfit: 0\n"
     ]
    }
   ],
   "source": [
    "existing_products = set(df_products['cod_modelo_color'].unique())\n",
    "products_w_outfit = set(df_outfits['cod_modelo_color'].unique())\n",
    "\n",
    "products_without_outfit = existing_products - products_w_outfit\n",
    "\n",
    "print(\"Number of products without an outfit:\", len(products_without_outfit))"
   ]
  },
  {
   "cell_type": "code",
   "execution_count": 8,
   "id": "bae2ca44-3cfe-49ee-bb56-9d56a3d73c2d",
   "metadata": {},
   "outputs": [
    {
     "data": {
      "text/html": [
       "<div>\n",
       "<style scoped>\n",
       "    .dataframe tbody tr th:only-of-type {\n",
       "        vertical-align: middle;\n",
       "    }\n",
       "\n",
       "    .dataframe tbody tr th {\n",
       "        vertical-align: top;\n",
       "    }\n",
       "\n",
       "    .dataframe thead th {\n",
       "        text-align: right;\n",
       "    }\n",
       "</style>\n",
       "<table border=\"1\" class=\"dataframe\">\n",
       "  <thead>\n",
       "    <tr style=\"text-align: right;\">\n",
       "      <th></th>\n",
       "      <th>outfit_size</th>\n",
       "      <th>grouped_outfit_size</th>\n",
       "    </tr>\n",
       "  </thead>\n",
       "  <tbody>\n",
       "    <tr>\n",
       "      <th>0</th>\n",
       "      <td>2</td>\n",
       "      <td>30</td>\n",
       "    </tr>\n",
       "    <tr>\n",
       "      <th>1</th>\n",
       "      <td>3</td>\n",
       "      <td>142</td>\n",
       "    </tr>\n",
       "    <tr>\n",
       "      <th>2</th>\n",
       "      <td>4</td>\n",
       "      <td>758</td>\n",
       "    </tr>\n",
       "    <tr>\n",
       "      <th>3</th>\n",
       "      <td>5</td>\n",
       "      <td>3875</td>\n",
       "    </tr>\n",
       "    <tr>\n",
       "      <th>4</th>\n",
       "      <td>6</td>\n",
       "      <td>1737</td>\n",
       "    </tr>\n",
       "    <tr>\n",
       "      <th>5</th>\n",
       "      <td>7</td>\n",
       "      <td>674</td>\n",
       "    </tr>\n",
       "    <tr>\n",
       "      <th>6</th>\n",
       "      <td>8</td>\n",
       "      <td>309</td>\n",
       "    </tr>\n",
       "    <tr>\n",
       "      <th>7</th>\n",
       "      <td>9</td>\n",
       "      <td>174</td>\n",
       "    </tr>\n",
       "    <tr>\n",
       "      <th>8</th>\n",
       "      <td>10</td>\n",
       "      <td>95</td>\n",
       "    </tr>\n",
       "    <tr>\n",
       "      <th>9</th>\n",
       "      <td>11</td>\n",
       "      <td>26</td>\n",
       "    </tr>\n",
       "    <tr>\n",
       "      <th>10</th>\n",
       "      <td>12</td>\n",
       "      <td>13</td>\n",
       "    </tr>\n",
       "    <tr>\n",
       "      <th>11</th>\n",
       "      <td>13</td>\n",
       "      <td>8</td>\n",
       "    </tr>\n",
       "    <tr>\n",
       "      <th>12</th>\n",
       "      <td>15</td>\n",
       "      <td>1</td>\n",
       "    </tr>\n",
       "  </tbody>\n",
       "</table>\n",
       "</div>"
      ],
      "text/plain": [
       "    outfit_size  grouped_outfit_size\n",
       "0             2                   30\n",
       "1             3                  142\n",
       "2             4                  758\n",
       "3             5                 3875\n",
       "4             6                 1737\n",
       "5             7                  674\n",
       "6             8                  309\n",
       "7             9                  174\n",
       "8            10                   95\n",
       "9            11                   26\n",
       "10           12                   13\n",
       "11           13                    8\n",
       "12           15                    1"
      ]
     },
     "execution_count": 8,
     "metadata": {},
     "output_type": "execute_result"
    }
   ],
   "source": [
    "name_set = 'outfit'\n",
    "code_sets = 'cod_outfit'\n",
    "get_grouped_counts(df_outfits, code_sets, name_set)"
   ]
  },
  {
   "cell_type": "markdown",
   "id": "b8d6cc2b-aa23-4bfc-a61b-a7874cb62f4a",
   "metadata": {},
   "source": [
    "If we plot the number of outfits for each size, we can observe that there are potentially some outfits that can be excluded from the training set due to their low frequency."
   ]
  },
  {
   "cell_type": "code",
   "execution_count": 9,
   "id": "c67b0d6b-b65b-4864-b248-a22bbb20d171",
   "metadata": {},
   "outputs": [
    {
     "name": "stdout",
     "output_type": "stream",
     "text": [
      "<class 'pandas.core.frame.DataFrame'>\n",
      "RangeIndex: 9222 entries, 0 to 9221\n",
      "Data columns (total 13 columns):\n",
      " #   Column                         Non-Null Count  Dtype \n",
      "---  ------                         --------------  ----- \n",
      " 0   cod_modelo_color               9222 non-null   object\n",
      " 1   cod_color_code                 9222 non-null   object\n",
      " 2   des_color_specification_esp    9222 non-null   object\n",
      " 3   des_agrup_color_eng            9222 non-null   object\n",
      " 4   des_sex                        9222 non-null   object\n",
      " 5   des_age                        9222 non-null   object\n",
      " 6   des_line                       9222 non-null   object\n",
      " 7   des_fabric                     9222 non-null   object\n",
      " 8   des_product_category           9222 non-null   object\n",
      " 9   des_product_aggregated_family  9222 non-null   object\n",
      " 10  des_product_family             9222 non-null   object\n",
      " 11  des_product_type               9222 non-null   object\n",
      " 12  des_filename                   9222 non-null   object\n",
      "dtypes: object(13)\n",
      "memory usage: 936.7+ KB\n"
     ]
    }
   ],
   "source": [
    "df_products.info()"
   ]
  },
  {
   "cell_type": "markdown",
   "id": "fc6e47e8-c599-49d9-b21f-37d6dc81ef53",
   "metadata": {},
   "source": [
    "## Product description\n",
    "\n",
    "Since not all outfits will be considered in the training process, we should start by examining their descriptions to determine which descriptors are useful. Later, we can use this information to establish criteria for defining valid combinations. "
   ]
  },
  {
   "cell_type": "code",
   "execution_count": 10,
   "id": "08798797-7e33-47fa-a5ca-a4aa565d4d64",
   "metadata": {},
   "outputs": [
    {
     "data": {
      "text/plain": [
       "array(['Bottoms', 'Dresses, jumpsuits and Complete set', 'Tops',\n",
       "       'Accesories, Swim and Intimate', 'Outerwear', 'Beauty', 'Home'],\n",
       "      dtype=object)"
      ]
     },
     "execution_count": 10,
     "metadata": {},
     "output_type": "execute_result"
    }
   ],
   "source": [
    "df_products['des_product_category'].unique()"
   ]
  },
  {
   "cell_type": "code",
   "execution_count": 11,
   "id": "4f8e505a-115a-4ce5-8b07-40935cc5eee1",
   "metadata": {},
   "outputs": [
    {
     "data": {
      "text/plain": [
       "array(['Trousers', 'Jeans', 'Dresses', 'Shirt', 'Sweater', 'Skirts',\n",
       "       'Jewellery', 'Bags', 'Glasses', 'Wallets & cases', 'Shorts',\n",
       "       'Tops', 'Belts and Ties', 'Jumpsuit', 'Jackets', 'Coats',\n",
       "       'Footwear', 'Hats, scarves and gloves', 'T-shirt', 'Blazers',\n",
       "       'Gadgets', 'Swimwear', 'Vest', 'Fragances', 'Cardigans',\n",
       "       'Trenchcoats', 'Puffer coats', 'Outer Vest',\n",
       "       'Leggings and joggers', 'Deco Accessories', 'Poloshirts',\n",
       "       'Intimate', 'Sweatshirts', 'Deco Textiles', 'Bedding', 'Bodysuits',\n",
       "       'Leather jackets', 'Parkas', 'Glassware'], dtype=object)"
      ]
     },
     "execution_count": 11,
     "metadata": {},
     "output_type": "execute_result"
    }
   ],
   "source": [
    "df_products['des_product_family'].unique()"
   ]
  },
  {
   "cell_type": "code",
   "execution_count": 12,
   "id": "cfd242d7-902e-4a90-ac6a-a890a4f30f9d",
   "metadata": {},
   "outputs": [
    {
     "data": {
      "text/plain": [
       "array(['Trousers', 'Jeans', 'Dress', 'Shirt', 'Sweater', 'Skirt',\n",
       "       'Earrings', 'Totes bag', 'Sunglasses', 'Card holder', 'Wallet',\n",
       "       'Shorts', 'Top', 'Belt', 'Crossbody bag', 'Jumpsuit', 'Jacket',\n",
       "       'Coat', 'Sandals', 'Kerchief', 'Shoes', 'Blouse', 'T-Shirt',\n",
       "       'Blazer', 'Umbrella', 'Citybag', 'Bikini top', 'Vest',\n",
       "       'Shoulder bag', 'Bodymist', 'Beanie', 'Handbag', 'Cardigan',\n",
       "       'Glasses', 'Trenchcoat', 'Puffer coat', 'Necklace',\n",
       "       'Bikini pantie', 'Outer vest', 'Scarf', 'Ankle Boots', 'Leggings',\n",
       "       'Basket', 'Cosmetic bag', 'Ring', 'Poloshirt', 'Pyjama',\n",
       "       'Sweatshirt', 'Plaid', 'Boots', 'Hat', 'Duvet Covers',\n",
       "       'Beach Towel', 'Gloves', 'Bodysuit', 'Fragance', 'Leather Jacket',\n",
       "       'Hairband', 'Bermudas', 'Cap', 'Parka', 'Pyjama Trousers',\n",
       "       'Pyjama Shirt', 'Bras', 'Trainers', 'Foulard', 'Hairclip', 'Case',\n",
       "       'Bracelet', 'Pyjama Shorts', 'Sweater Vest', 'Pyjiama Sweater',\n",
       "       'Bucket bag', 'Jacket (Cazadora)', 'Purse', 'Belt bag',\n",
       "       'Sock (Pack)', 'Pillow Case', 'Socks', 'Swimsuit', 'Knicker',\n",
       "       'Overshirt', 'Overall', 'Cushion Case', 'Cardigan Vest',\n",
       "       'Mini Bag', 'Tumblers', 'Carpet Yarn', 'Pyjama T-Shirt', 'Jug',\n",
       "       'Tights', 'Gadget', 'Poncho', 'Shape', 'Clutch and Pochettes',\n",
       "       'Headband', 'Dressing Gown (Bata)', 'Home Spray', 'Curtain',\n",
       "       'Joggers', 'Backpack', 'Candle', 'Cape', 'Kaftan', 'Pyjama Top',\n",
       "       'Pyjama Sweatshirt', 'Nightgown', 'Skort', 'Tie', 'Keyring', 'Box',\n",
       "       'Glasses case', 'Turban', 'Pichi', 'Braces', 'Bedspread',\n",
       "       'Slippers', 'Quilt', 'Bed Cushion Case', 'Pyjama Cardigan',\n",
       "       'Candle Holder', 'Organiser', 'Clogs'], dtype=object)"
      ]
     },
     "execution_count": 12,
     "metadata": {},
     "output_type": "execute_result"
    }
   ],
   "source": [
    "df_products['des_product_type'].unique()"
   ]
  },
  {
   "cell_type": "markdown",
   "id": "64863ea5-42bb-48e2-91df-79770ff06351",
   "metadata": {},
   "source": [
    "We can observe that as the description becomes more specific, the number of different labels increases. Let's examine the counts for the 'des_product_category' (less specific description) values:"
   ]
  },
  {
   "cell_type": "code",
   "execution_count": 13,
   "id": "46a5e9cf-a11f-46c6-9002-4fa129009a18",
   "metadata": {},
   "outputs": [
    {
     "data": {
      "text/plain": [
       "des_product_category\n",
       "Accesories, Swim and Intimate          27315\n",
       "Tops                                    6313\n",
       "Bottoms                                 5839\n",
       "Outerwear                               2080\n",
       "Dresses, jumpsuits and Complete set     1777\n",
       "Home                                     169\n",
       "Beauty                                    89\n",
       "Name: count, dtype: int64"
      ]
     },
     "execution_count": 13,
     "metadata": {},
     "output_type": "execute_result"
    }
   ],
   "source": [
    "df_outfit_products['des_product_category'].value_counts()"
   ]
  },
  {
   "cell_type": "markdown",
   "id": "222d46b7-1426-4196-a52f-8c8a1652c6c7",
   "metadata": {},
   "source": [
    "As Home and Beauty labels are less common, we can exclude them when defining valid outfit combinations. The other labels are more generalizable, and they are less likely to contain 'strange' products. This cannot be said for the most common label (Accesories, Swim and Intimate), where sublabels may potentially have very low frequency and/or make less sense for products."
   ]
  },
  {
   "cell_type": "code",
   "execution_count": 14,
   "id": "80da876d-38b3-47f6-883f-5cb0513db645",
   "metadata": {},
   "outputs": [
    {
     "data": {
      "text/plain": [
       "des_product_family\n",
       "Jewellery                   9686\n",
       "Footwear                    7976\n",
       "Bags                        6152\n",
       "Glasses                      910\n",
       "Belts and Ties               767\n",
       "Wallets & cases              611\n",
       "Hats, scarves and gloves     551\n",
       "Intimate                     473\n",
       "Swimwear                     158\n",
       "Gadgets                       31\n",
       "Name: count, dtype: int64"
      ]
     },
     "execution_count": 14,
     "metadata": {},
     "output_type": "execute_result"
    }
   ],
   "source": [
    "df_accesories = df_outfit_products[df_outfit_products['des_product_category'] == 'Accesories, Swim and Intimate']\n",
    "df_accesories['des_product_family'].value_counts()"
   ]
  },
  {
   "cell_type": "markdown",
   "id": "1d9cdd4c-2aa4-4f7f-9e76-11c322bc72d4",
   "metadata": {},
   "source": [
    "The same observation can be made here for the jewelry family. Let's examine the corresponding subtypes."
   ]
  },
  {
   "cell_type": "code",
   "execution_count": 15,
   "id": "1a7fa119-a601-44cd-8b9f-4f99409e68b7",
   "metadata": {},
   "outputs": [
    {
     "data": {
      "text/plain": [
       "des_product_type\n",
       "Earrings    5858\n",
       "Ring        1832\n",
       "Necklace    1363\n",
       "Bracelet     614\n",
       "Hairclip      19\n",
       "Name: count, dtype: int64"
      ]
     },
     "execution_count": 15,
     "metadata": {},
     "output_type": "execute_result"
    }
   ],
   "source": [
    "df_accesories = df_outfit_products[df_outfit_products['des_product_category'] == 'Accesories, Swim and Intimate']\n",
    "df_jewellery = df_accesories[df_accesories['des_product_family'] == 'Jewellery']\n",
    "df_jewellery['des_product_type'].value_counts()"
   ]
  },
  {
   "cell_type": "markdown",
   "id": "5d19a10d-87a2-4695-9ccb-b985c05dba0c",
   "metadata": {},
   "source": [
    "We can now create a personalized product class by combining the three column descriptors we just examined."
   ]
  },
  {
   "cell_type": "code",
   "execution_count": 16,
   "id": "58ef4e8a-4567-4477-afd2-448a9c8b7ccf",
   "metadata": {},
   "outputs": [],
   "source": [
    "df_outfit_products = df_outfit_products.copy()\n",
    "df_outfit_products['des_product_class'] = df_outfit_products.apply(get_des_product_class, axis=1)"
   ]
  },
  {
   "cell_type": "code",
   "execution_count": 17,
   "id": "c323aa65-9b55-437f-9f17-1da1f9c38cca",
   "metadata": {},
   "outputs": [
    {
     "data": {
      "text/plain": [
       "array(['Accesories, Swim and Intimate', 'Tops', 'Earrings', 'Bottoms',\n",
       "       'Outerwear', 'Dresses, jumpsuits and Complete set', 'Necklace',\n",
       "       'Bracelet', 'Ring', 'Home', 'Beauty', 'Hairclip'], dtype=object)"
      ]
     },
     "execution_count": 17,
     "metadata": {},
     "output_type": "execute_result"
    }
   ],
   "source": [
    "df_outfit_products['des_product_class'].unique()"
   ]
  },
  {
   "cell_type": "markdown",
   "id": "8e013066-0d88-4c3d-8583-e1b6de4fc61a",
   "metadata": {},
   "source": [
    "## Outfit combinations"
   ]
  },
  {
   "cell_type": "code",
   "execution_count": 18,
   "id": "cd73287c-2c83-4f99-9b6a-839f8f49d213",
   "metadata": {},
   "outputs": [
    {
     "ename": "NameError",
     "evalue": "name 'get_grouped_counts_feature_values' is not defined",
     "output_type": "error",
     "traceback": [
      "\u001b[0;31m---------------------------------------------------------------------------\u001b[0m",
      "\u001b[0;31mNameError\u001b[0m                                 Traceback (most recent call last)",
      "Cell \u001b[0;32mIn[18], line 6\u001b[0m\n\u001b[1;32m      3\u001b[0m name_set \u001b[38;5;241m=\u001b[39m \u001b[38;5;124m'\u001b[39m\u001b[38;5;124moutfit\u001b[39m\u001b[38;5;124m'\u001b[39m\n\u001b[1;32m      4\u001b[0m code_sets \u001b[38;5;241m=\u001b[39m \u001b[38;5;124m'\u001b[39m\u001b[38;5;124mcod_outfit\u001b[39m\u001b[38;5;124m'\u001b[39m\n\u001b[0;32m----> 6\u001b[0m result_df \u001b[38;5;241m=\u001b[39m \u001b[43mget_grouped_counts_feature_values\u001b[49m(df_outfit_products, code_sets, name_set, feature_name)\n\u001b[1;32m      7\u001b[0m tuple_set \u001b[38;5;241m=\u001b[39m result_df[result_df[\u001b[38;5;124m'\u001b[39m\u001b[38;5;124moutfit_size\u001b[39m\u001b[38;5;124m'\u001b[39m] \u001b[38;5;241m==\u001b[39m size][\u001b[38;5;124mf\u001b[39m\u001b[38;5;124m'\u001b[39m\u001b[38;5;124mcod_outfit_\u001b[39m\u001b[38;5;132;01m{\u001b[39;00mfeature_name\u001b[38;5;132;01m}\u001b[39;00m\u001b[38;5;124m_tuple\u001b[39m\u001b[38;5;124m'\u001b[39m]\u001b[38;5;241m.\u001b[39miloc[\u001b[38;5;241m0\u001b[39m]\n\u001b[1;32m      8\u001b[0m features_sets \u001b[38;5;241m=\u001b[39m get_unique_sets_features(tuple_set, feature_name)\n",
      "\u001b[0;31mNameError\u001b[0m: name 'get_grouped_counts_feature_values' is not defined"
     ]
    }
   ],
   "source": [
    "size = 2\n",
    "feature_name = 'des_product_class'\n",
    "name_set = 'outfit'\n",
    "code_sets = 'cod_outfit'\n",
    "\n",
    "result_df = get_grouped_counts_feature_values(df_outfit_products, code_sets, name_set, feature_name)\n",
    "tuple_set = result_df[result_df['outfit_size'] == size][f'cod_outfit_{feature_name}_tuple'].iloc[0]\n",
    "features_sets = get_unique_sets_features(tuple_set, feature_name)\n",
    "features_sets.head()"
   ]
  },
  {
   "cell_type": "code",
   "execution_count": null,
   "id": "71ec2971-6ba0-4f32-951a-7138559f5f40",
   "metadata": {},
   "outputs": [],
   "source": [
    "size = 3\n",
    "feature_name = 'des_product_class'\n",
    "name_set = 'outfit'\n",
    "code_sets = 'cod_outfit'\n",
    "\n",
    "result_df = get_grouped_counts_feature_values(df_outfit_products, code_sets, name_set, feature_name)\n",
    "tuple_set = result_df[result_df['outfit_size'] == size][f'cod_outfit_{feature_name}_tuple'].iloc[0]\n",
    "features_sets = get_unique_sets_features(tuple_set, feature_name)\n",
    "features_sets.head()"
   ]
  },
  {
   "cell_type": "code",
   "execution_count": null,
   "id": "4b7c63e7-cfe6-493e-93ea-801aae431033",
   "metadata": {},
   "outputs": [],
   "source": [
    "size = 4\n",
    "feature_name = 'des_product_class'\n",
    "name_set = 'outfit'\n",
    "code_sets = 'cod_outfit'\n",
    "\n",
    "result_df = get_grouped_counts_feature_values(df_outfit_products, code_sets, name_set, feature_name)\n",
    "tuple_set = result_df[result_df['outfit_size'] == size][f'cod_outfit_{feature_name}_tuple'].iloc[0]\n",
    "features_sets = get_unique_sets_features(tuple_set, feature_name)\n",
    "features_sets.head()"
   ]
  },
  {
   "cell_type": "code",
   "execution_count": null,
   "id": "795825f8-5157-438c-b822-9a08ca100095",
   "metadata": {},
   "outputs": [],
   "source": [
    "size = 5\n",
    "feature_name = 'des_product_type'\n",
    "name_set = 'outfit'\n",
    "code_sets = 'cod_outfit'\n",
    "\n",
    "result_df = get_grouped_counts_feature_values(df_outfit_products, code_sets, name_set, feature_name)\n",
    "tuple_set = result_df[result_df['outfit_size'] == size][f'cod_outfit_{feature_name}_tuple'].iloc[0]\n",
    "features_sets = get_unique_sets_features(tuple_set, feature_name)\n",
    "features_sets.head()"
   ]
  },
  {
   "cell_type": "code",
   "execution_count": null,
   "id": "7865bccd-8b81-4aa9-a00b-580a3be91190",
   "metadata": {},
   "outputs": [],
   "source": [
    "size = 6\n",
    "feature_name = 'des_product_category'\n",
    "name_set = 'outfit'\n",
    "code_sets = 'cod_outfit'\n",
    "\n",
    "result_df = get_grouped_counts_feature_values(df_outfit_products, code_sets, name_set, feature_name)\n",
    "tuple_set = result_df[result_df['outfit_size'] == size][f'cod_outfit_{feature_name}_tuple'].iloc[0]\n",
    "features_sets = get_unique_sets_features(tuple_set, feature_name)\n",
    "features_sets.head()"
   ]
  },
  {
   "cell_type": "code",
   "execution_count": null,
   "id": "56faa5bc-2ddd-43a1-9b6f-00398d204d6e",
   "metadata": {},
   "outputs": [],
   "source": [
    "size = 7\n",
    "feature_name = 'des_product_class'\n",
    "name_set = 'outfit'\n",
    "code_sets = 'cod_outfit'\n",
    "\n",
    "result_df = get_grouped_counts_feature_values(df_outfit_products, code_sets, name_set, feature_name)\n",
    "tuple_set = result_df[result_df['outfit_size'] == size][f'cod_outfit_{feature_name}_tuple'].iloc[0]\n",
    "features_sets = get_unique_sets_features(tuple_set, feature_name)\n",
    "features_sets.head()"
   ]
  },
  {
   "cell_type": "code",
   "execution_count": null,
   "id": "f528ce89-bdf0-4200-b794-82219798768e",
   "metadata": {},
   "outputs": [],
   "source": [
    "size = 8\n",
    "feature_name = 'des_product_class'\n",
    "name_set = 'outfit'\n",
    "code_sets = 'cod_outfit'\n",
    "\n",
    "result_df = get_grouped_counts_feature_values(df_outfit_products, code_sets, name_set, feature_name)\n",
    "tuple_set = result_df[result_df['outfit_size'] == size][f'cod_outfit_{feature_name}_tuple'].iloc[0]\n",
    "features_sets = get_unique_sets_features(tuple_set, feature_name)\n",
    "features_sets.head()"
   ]
  },
  {
   "cell_type": "code",
   "execution_count": null,
   "id": "113fcab8-d4d9-43ce-ab42-599695dfeef6",
   "metadata": {},
   "outputs": [],
   "source": [
    "size = 9\n",
    "feature_name = 'des_product_class'\n",
    "name_set = 'outfit'\n",
    "code_sets = 'cod_outfit'\n",
    "\n",
    "result_df = get_grouped_counts_feature_values(df_outfit_products, code_sets, name_set, feature_name)\n",
    "tuple_set = result_df[result_df['outfit_size'] == size][f'cod_outfit_{feature_name}_tuple'].iloc[0]\n",
    "features_sets = get_unique_sets_features(tuple_set, feature_name)\n",
    "features_sets.head()"
   ]
  },
  {
   "cell_type": "code",
   "execution_count": null,
   "id": "ced48827-f8a0-4146-9e9f-6f7caf737da2",
   "metadata": {},
   "outputs": [],
   "source": [
    "size = 10\n",
    "feature_name = 'des_product_class'\n",
    "name_set = 'outfit'\n",
    "code_sets = 'cod_outfit'\n",
    "\n",
    "result_df = get_grouped_counts_feature_values(df_outfit_products, code_sets, name_set, feature_name)\n",
    "tuple_set = result_df[result_df['outfit_size'] == size][f'cod_outfit_{feature_name}_tuple'].iloc[0]\n",
    "features_sets = get_unique_sets_features(tuple_set, feature_name)\n",
    "features_sets.head()"
   ]
  },
  {
   "cell_type": "code",
   "execution_count": null,
   "id": "36d3750a-9df3-46db-8748-04342031a522",
   "metadata": {},
   "outputs": [],
   "source": []
  }
 ],
 "metadata": {
  "kernelspec": {
   "display_name": "Python 3 (ipykernel)",
   "language": "python",
   "name": "python3"
  },
  "language_info": {
   "codemirror_mode": {
    "name": "ipython",
    "version": 3
   },
   "file_extension": ".py",
   "mimetype": "text/x-python",
   "name": "python",
   "nbconvert_exporter": "python",
   "pygments_lexer": "ipython3",
   "version": "3.10.12"
  }
 },
 "nbformat": 4,
 "nbformat_minor": 5
}
