{
 "cells": [
  {
   "cell_type": "markdown",
   "id": "01b6701b-8dda-4f49-84b4-a05fa55cde93",
   "metadata": {},
   "source": [
    "# Fashion compatibility - Data Exploration and Analysis\n",
    "\n",
    "---\n",
    "## Author Information\n",
    "- **Author:** Francesco Tedesco\n",
    "- **Email:** francescotedesco7d2@gmail.com\n",
    "- [**LinkedIn**](https://www.linkedin.com/in/francescotedesco7d2/)\n",
    "\n",
    "---\n",
    "## Overview\n",
    "This notebook explores the dataset to gain insights into the different types of outfits, in order to build a set of possible combinations of outfits for outfits.\n",
    "\n",
    "---\n"
   ]
  },
  {
   "cell_type": "code",
   "execution_count": 1,
   "id": "b318300f-8801-4e8c-a18f-2b831a2dd2ec",
   "metadata": {},
   "outputs": [],
   "source": [
    "from pathlib import Path\n",
    "import os\n",
    "\n",
    "os.chdir(str(Path.cwd().parent))\n",
    "\n",
    "from src.utils.setup_utilities import load_config\n",
    "from src.data_processing.group_manipulation import get_grouped_counts\n",
    "from src.data_processing.group_manipulation import get_grouped_counts_feature_values\n",
    "from src.data_processing.group_manipulation import get_unique_sets_features\n",
    "from src.data_processing.group_manipulation import create_combinations\n",
    "from src.data_processing.group_manipulation import create_configurations\n",
    "from src.data_processing.group_manipulation import select_valid_outfits\n",
    "from src.data_processing.product_processing import get_des_product_class\n",
    "\n",
    "config = load_config()"
   ]
  },
  {
   "cell_type": "code",
   "execution_count": 2,
   "id": "b675c1cd-12d9-49b7-88e0-3152b7cd8e16",
   "metadata": {},
   "outputs": [
    {
     "ename": "NameError",
     "evalue": "name 'pd' is not defined",
     "output_type": "error",
     "traceback": [
      "\u001b[0;31m---------------------------------------------------------------------------\u001b[0m",
      "\u001b[0;31mNameError\u001b[0m                                 Traceback (most recent call last)",
      "Cell \u001b[0;32mIn[2], line 1\u001b[0m\n\u001b[0;32m----> 1\u001b[0m df_outfits \u001b[38;5;241m=\u001b[39m \u001b[43mpd\u001b[49m\u001b[38;5;241m.\u001b[39mread_csv(config[\u001b[38;5;124m'\u001b[39m\u001b[38;5;124mdata\u001b[39m\u001b[38;5;124m'\u001b[39m][\u001b[38;5;124m'\u001b[39m\u001b[38;5;124moutfits_path\u001b[39m\u001b[38;5;124m'\u001b[39m])\n\u001b[1;32m      2\u001b[0m df_products \u001b[38;5;241m=\u001b[39m pd\u001b[38;5;241m.\u001b[39mread_csv(config[\u001b[38;5;124m'\u001b[39m\u001b[38;5;124mdata\u001b[39m\u001b[38;5;124m'\u001b[39m][\u001b[38;5;124m'\u001b[39m\u001b[38;5;124mproducts_path\u001b[39m\u001b[38;5;124m'\u001b[39m])\n\u001b[1;32m      3\u001b[0m df_outfit_products \u001b[38;5;241m=\u001b[39m pd\u001b[38;5;241m.\u001b[39mmerge(df_outfits, df_products, on \u001b[38;5;241m=\u001b[39m \u001b[38;5;124m'\u001b[39m\u001b[38;5;124mcod_modelo_color\u001b[39m\u001b[38;5;124m'\u001b[39m, how \u001b[38;5;241m=\u001b[39m \u001b[38;5;124m'\u001b[39m\u001b[38;5;124mouter\u001b[39m\u001b[38;5;124m'\u001b[39m)\n",
      "\u001b[0;31mNameError\u001b[0m: name 'pd' is not defined"
     ]
    }
   ],
   "source": [
    "df_outfits = pd.read_csv(config['data']['outfits_path'])\n",
    "df_products = pd.read_csv(config['data']['products_path'])\n",
    "df_outfit_products = pd.merge(df_outfits, df_products, on = 'cod_modelo_color', how = 'outer')"
   ]
  },
  {
   "cell_type": "markdown",
   "id": "95c86f8b-cd55-4a59-a4ad-b26e5701cfb3",
   "metadata": {},
   "source": [
    "## Initial exploration"
   ]
  },
  {
   "cell_type": "code",
   "execution_count": null,
   "id": "2d70c8d9-8942-4759-86b9-3620149fd300",
   "metadata": {},
   "outputs": [],
   "source": [
    "df_outfits.head()"
   ]
  },
  {
   "cell_type": "markdown",
   "id": "8ccb575e-de2d-433c-8cd7-379c1871cbc6",
   "metadata": {},
   "source": [
    "The `df_outfits` dataframe contains the codes of each outfit and the products code associated. "
   ]
  },
  {
   "cell_type": "code",
   "execution_count": null,
   "id": "16dec241-f458-45aa-b3ac-128afabf49a4",
   "metadata": {},
   "outputs": [],
   "source": [
    "df_products.head()"
   ]
  },
  {
   "cell_type": "markdown",
   "id": "27dbe1e5-2246-474a-b177-d6d5c1b6bca4",
   "metadata": {},
   "source": [
    "The `df_products` contains information about each product, including the path to the corresponding images.\n",
    "\n",
    "Some important things to consider: "
   ]
  },
  {
   "cell_type": "code",
   "execution_count": null,
   "id": "204ece66-b014-4598-adbe-4478833a0f89",
   "metadata": {},
   "outputs": [],
   "source": [
    "print(\"Total number of outfits:\", len(df_outfits['cod_outfit'].unique()))"
   ]
  },
  {
   "cell_type": "code",
   "execution_count": null,
   "id": "b9706fbe-a2d8-4020-a552-3bdfa8a7669f",
   "metadata": {},
   "outputs": [],
   "source": [
    "print(\"Total number of products:\", len(df_products['cod_modelo_color'].unique()))"
   ]
  },
  {
   "cell_type": "code",
   "execution_count": null,
   "id": "7b688b6e-394f-4eaf-8490-c8167d95df93",
   "metadata": {},
   "outputs": [],
   "source": [
    "existing_products = set(df_products['cod_modelo_color'].unique())\n",
    "products_w_outfit = set(df_outfits['cod_modelo_color'].unique())\n",
    "\n",
    "products_without_outfit = existing_products - products_w_outfit\n",
    "\n",
    "print(\"Number of products without an outfit:\", len(products_without_outfit))"
   ]
  },
  {
   "cell_type": "code",
   "execution_count": null,
   "id": "bae2ca44-3cfe-49ee-bb56-9d56a3d73c2d",
   "metadata": {},
   "outputs": [],
   "source": [
    "name_set = 'outfit'\n",
    "code_sets = 'cod_outfit'\n",
    "get_grouped_counts(df_outfits, code_sets, name_set)"
   ]
  },
  {
   "cell_type": "markdown",
   "id": "b8d6cc2b-aa23-4bfc-a61b-a7874cb62f4a",
   "metadata": {},
   "source": [
    "If we plot the number of outfits for each size, we can observe that there are potentially some outfits that can be excluded from the training set due to their low frequency."
   ]
  },
  {
   "cell_type": "code",
   "execution_count": null,
   "id": "c67b0d6b-b65b-4864-b248-a22bbb20d171",
   "metadata": {},
   "outputs": [],
   "source": [
    "df_products.info()"
   ]
  },
  {
   "cell_type": "markdown",
   "id": "fc6e47e8-c599-49d9-b21f-37d6dc81ef53",
   "metadata": {},
   "source": [
    "## Product description\n",
    "\n",
    "Since not all outfits will be considered in the training process, we should start by examining their descriptions to determine which descriptors are useful. Later, we can use this information to establish criteria for defining valid combinations. "
   ]
  },
  {
   "cell_type": "code",
   "execution_count": null,
   "id": "08798797-7e33-47fa-a5ca-a4aa565d4d64",
   "metadata": {},
   "outputs": [],
   "source": [
    "df_products['des_product_category'].unique()"
   ]
  },
  {
   "cell_type": "code",
   "execution_count": null,
   "id": "4f8e505a-115a-4ce5-8b07-40935cc5eee1",
   "metadata": {},
   "outputs": [],
   "source": [
    "df_products['des_product_family'].unique()"
   ]
  },
  {
   "cell_type": "code",
   "execution_count": null,
   "id": "cfd242d7-902e-4a90-ac6a-a890a4f30f9d",
   "metadata": {},
   "outputs": [],
   "source": [
    "df_products['des_product_type'].unique()"
   ]
  },
  {
   "cell_type": "markdown",
   "id": "64863ea5-42bb-48e2-91df-79770ff06351",
   "metadata": {},
   "source": [
    "We can observe that as the description becomes more specific, the number of different labels increases. Let's examine the counts for the 'des_product_category' (less specific description) values:"
   ]
  },
  {
   "cell_type": "code",
   "execution_count": null,
   "id": "46a5e9cf-a11f-46c6-9002-4fa129009a18",
   "metadata": {},
   "outputs": [],
   "source": [
    "df_outfit_products['des_product_category'].value_counts()"
   ]
  },
  {
   "cell_type": "markdown",
   "id": "222d46b7-1426-4196-a52f-8c8a1652c6c7",
   "metadata": {},
   "source": [
    "As Home and Beauty labels are less common, we can exclude them when defining valid outfit combinations. The other labels are more generalizable, and they are less likely to contain 'strange' products. This cannot be said for the most common label (Accesories, Swim and Intimate), where sublabels may potentially have very low frequency and/or make less sense for products."
   ]
  },
  {
   "cell_type": "code",
   "execution_count": null,
   "id": "80da876d-38b3-47f6-883f-5cb0513db645",
   "metadata": {},
   "outputs": [],
   "source": [
    "df_accesories = df_outfit_products[df_outfit_products['des_product_category'] == 'Accesories, Swim and Intimate']\n",
    "df_accesories['des_product_family'].value_counts()"
   ]
  },
  {
   "cell_type": "markdown",
   "id": "1d9cdd4c-2aa4-4f7f-9e76-11c322bc72d4",
   "metadata": {},
   "source": [
    "The same observation can be made here for the jewelry family. Let's examine the corresponding subtypes."
   ]
  },
  {
   "cell_type": "code",
   "execution_count": null,
   "id": "1a7fa119-a601-44cd-8b9f-4f99409e68b7",
   "metadata": {},
   "outputs": [],
   "source": [
    "df_accesories = df_outfit_products[df_outfit_products['des_product_category'] == 'Accesories, Swim and Intimate']\n",
    "df_jewellery = df_accesories[df_accesories['des_product_family'] == 'Jewellery']\n",
    "df_jewellery['des_product_type'].value_counts()"
   ]
  },
  {
   "cell_type": "markdown",
   "id": "5d19a10d-87a2-4695-9ccb-b985c05dba0c",
   "metadata": {},
   "source": [
    "We can now create a personalized product class by combining the three column descriptors we just examined."
   ]
  },
  {
   "cell_type": "code",
   "execution_count": null,
   "id": "58ef4e8a-4567-4477-afd2-448a9c8b7ccf",
   "metadata": {},
   "outputs": [],
   "source": [
    "df_outfit_products = df_outfit_products.copy()\n",
    "df_outfit_products['des_product_class'] = df_outfit_products.apply(get_des_product_class, axis=1)"
   ]
  },
  {
   "cell_type": "code",
   "execution_count": null,
   "id": "c323aa65-9b55-437f-9f17-1da1f9c38cca",
   "metadata": {},
   "outputs": [],
   "source": [
    "df_outfit_products['des_product_class'].unique()"
   ]
  },
  {
   "cell_type": "markdown",
   "id": "8e013066-0d88-4c3d-8583-e1b6de4fc61a",
   "metadata": {},
   "source": [
    "## Outfits structure \n",
    "\n",
    "\n",
    "Now that we've created a new class to describe the products, let's take a closer look at how the outfits are actually constructed. \n"
   ]
  },
  {
   "cell_type": "code",
   "execution_count": null,
   "id": "cd73287c-2c83-4f99-9b6a-839f8f49d213",
   "metadata": {},
   "outputs": [],
   "source": [
    "size = 2\n",
    "feature_name = 'des_product_class'\n",
    "name_set = 'outfit'\n",
    "code_sets = 'cod_outfit'\n",
    "\n",
    "result_df = get_grouped_counts_feature_values(df_outfit_products, code_sets, name_set, feature_name)\n",
    "tuple_set = result_df[result_df['outfit_size'] == size][f'cod_outfit_{feature_name}_tuple'].iloc[0]\n",
    "features_sets = get_unique_sets_features(tuple_set, feature_name)\n",
    "features_sets.head()"
   ]
  },
  {
   "cell_type": "code",
   "execution_count": null,
   "id": "71ec2971-6ba0-4f32-951a-7138559f5f40",
   "metadata": {},
   "outputs": [],
   "source": [
    "size = 3\n",
    "feature_name = 'des_product_class'\n",
    "name_set = 'outfit'\n",
    "code_sets = 'cod_outfit'\n",
    "\n",
    "result_df = get_grouped_counts_feature_values(df_outfit_products, code_sets, name_set, feature_name)\n",
    "tuple_set = result_df[result_df['outfit_size'] == size][f'cod_outfit_{feature_name}_tuple'].iloc[0]\n",
    "features_sets = get_unique_sets_features(tuple_set, feature_name)\n",
    "features_sets.head()"
   ]
  },
  {
   "cell_type": "code",
   "execution_count": null,
   "id": "4b7c63e7-cfe6-493e-93ea-801aae431033",
   "metadata": {},
   "outputs": [],
   "source": [
    "size = 4\n",
    "feature_name = 'des_product_class'\n",
    "name_set = 'outfit'\n",
    "code_sets = 'cod_outfit'\n",
    "\n",
    "result_df = get_grouped_counts_feature_values(df_outfit_products, code_sets, name_set, feature_name)\n",
    "tuple_set = result_df[result_df['outfit_size'] == size][f'cod_outfit_{feature_name}_tuple'].iloc[0]\n",
    "features_sets = get_unique_sets_features(tuple_set, feature_name)\n",
    "features_sets.head()"
   ]
  },
  {
   "cell_type": "code",
   "execution_count": null,
   "id": "795825f8-5157-438c-b822-9a08ca100095",
   "metadata": {},
   "outputs": [],
   "source": [
    "size = 5\n",
    "feature_name = 'des_product_type'\n",
    "name_set = 'outfit'\n",
    "code_sets = 'cod_outfit'\n",
    "\n",
    "result_df = get_grouped_counts_feature_values(df_outfit_products, code_sets, name_set, feature_name)\n",
    "tuple_set = result_df[result_df['outfit_size'] == size][f'cod_outfit_{feature_name}_tuple'].iloc[0]\n",
    "features_sets = get_unique_sets_features(tuple_set, feature_name)\n",
    "features_sets.head()"
   ]
  },
  {
   "cell_type": "code",
   "execution_count": null,
   "id": "7865bccd-8b81-4aa9-a00b-580a3be91190",
   "metadata": {},
   "outputs": [],
   "source": [
    "size = 6\n",
    "feature_name = 'des_product_category'\n",
    "name_set = 'outfit'\n",
    "code_sets = 'cod_outfit'\n",
    "\n",
    "result_df = get_grouped_counts_feature_values(df_outfit_products, code_sets, name_set, feature_name)\n",
    "tuple_set = result_df[result_df['outfit_size'] == size][f'cod_outfit_{feature_name}_tuple'].iloc[0]\n",
    "features_sets = get_unique_sets_features(tuple_set, feature_name)\n",
    "features_sets.head()"
   ]
  },
  {
   "cell_type": "code",
   "execution_count": null,
   "id": "56faa5bc-2ddd-43a1-9b6f-00398d204d6e",
   "metadata": {},
   "outputs": [],
   "source": [
    "size = 7\n",
    "feature_name = 'des_product_class'\n",
    "name_set = 'outfit'\n",
    "code_sets = 'cod_outfit'\n",
    "\n",
    "result_df = get_grouped_counts_feature_values(df_outfit_products, code_sets, name_set, feature_name)\n",
    "tuple_set = result_df[result_df['outfit_size'] == size][f'cod_outfit_{feature_name}_tuple'].iloc[0]\n",
    "features_sets = get_unique_sets_features(tuple_set, feature_name)\n",
    "features_sets.head()"
   ]
  },
  {
   "cell_type": "code",
   "execution_count": null,
   "id": "f528ce89-bdf0-4200-b794-82219798768e",
   "metadata": {},
   "outputs": [],
   "source": [
    "size = 8\n",
    "feature_name = 'des_product_class'\n",
    "name_set = 'outfit'\n",
    "code_sets = 'cod_outfit'\n",
    "\n",
    "result_df = get_grouped_counts_feature_values(df_outfit_products, code_sets, name_set, feature_name)\n",
    "tuple_set = result_df[result_df['outfit_size'] == size][f'cod_outfit_{feature_name}_tuple'].iloc[0]\n",
    "features_sets = get_unique_sets_features(tuple_set, feature_name)\n",
    "features_sets.head()"
   ]
  },
  {
   "cell_type": "code",
   "execution_count": null,
   "id": "113fcab8-d4d9-43ce-ab42-599695dfeef6",
   "metadata": {},
   "outputs": [],
   "source": [
    "size = 9\n",
    "feature_name = 'des_product_class'\n",
    "name_set = 'outfit'\n",
    "code_sets = 'cod_outfit'\n",
    "\n",
    "result_df = get_grouped_counts_feature_values(df_outfit_products, code_sets, name_set, feature_name)\n",
    "tuple_set = result_df[result_df['outfit_size'] == size][f'cod_outfit_{feature_name}_tuple'].iloc[0]\n",
    "features_sets = get_unique_sets_features(tuple_set, feature_name)\n",
    "features_sets.head()"
   ]
  },
  {
   "cell_type": "code",
   "execution_count": null,
   "id": "ced48827-f8a0-4146-9e9f-6f7caf737da2",
   "metadata": {},
   "outputs": [],
   "source": [
    "size = 10\n",
    "feature_name = 'des_product_class'\n",
    "name_set = 'outfit'\n",
    "code_sets = 'cod_outfit'\n",
    "\n",
    "result_df = get_grouped_counts_feature_values(df_outfit_products, code_sets, name_set, feature_name)\n",
    "tuple_set = result_df[result_df['outfit_size'] == size][f'cod_outfit_{feature_name}_tuple'].iloc[0]\n",
    "features_sets = get_unique_sets_features(tuple_set, feature_name)\n",
    "features_sets.head()"
   ]
  },
  {
   "cell_type": "markdown",
   "id": "586bdd28-82fb-4472-a716-d5e5aaf41b0e",
   "metadata": {},
   "source": [
    "# Defining valid outfit combinations\n",
    "\n",
    "Upon reviewing all the outfits, we can establish some rules for selecting valid combinations:\n",
    "\n",
    "In addition to these observations, we can define a rule for constructing the outfits:\n",
    "\n",
    "    The foundation of the outfits must consist of one of the following sets:\n",
    "        Tops + Bottoms + Footwear + Earrings + Accessories\n",
    "        Dress + Footwear + Earrings + Accessories\n",
    "\n",
    "    The outfit can optionally include the following complements:\n",
    "        Outerwear, Bags, Glasses, Ring, and Necklace\n",
    "\n",
    "We get, that a valid outfit is a configuration base plus (or\n",
    "not) a possible configuration of complements, each comple-\n",
    "ment, cannot appear more than once in the configuration.\n",
    "And so we get 42 possible configuration for the outfits, and\n",
    "each outfit can reach up to 10 products of different classes\n",
    "\n",
    "\n",
    "NOTE: Looking at outfits with sizes 2 or higher or equal than\n",
    "9, we observe that didn’t reach the conditions for being\n",
    "a valid outfit."
   ]
  },
  {
   "cell_type": "code",
   "execution_count": null,
   "id": "bc9d56d4-165d-4471-93ee-e0e841c847db",
   "metadata": {},
   "outputs": [],
   "source": [
    "configurations_base = config['data']['configurations_base']\n",
    "\n",
    "optional_products = config['data']['optional_products']\n",
    "\n",
    "optional_configurations = create_combinations(optional_products, root = False)\n",
    "\n",
    "all_configurations = create_configurations(configurations_base, optional_products)\n",
    "\n",
    "print(\"Number of Total possible configurations of BASE products:\", len(configurations_base))\n",
    "print(\"Number of Total possible configurations of OPTIONAL products:\", len(optional_configurations))\n",
    "print(\"Number of Total possible configurations:\", len(all_configurations))"
   ]
  },
  {
   "cell_type": "code",
   "execution_count": null,
   "id": "690cddd4-6e36-4fcd-9a8a-d1385b9d4bce",
   "metadata": {},
   "outputs": [],
   "source": [
    "feature_name = 'des_product_class'\n",
    "code_sets = 'cod_outfit'\n",
    "name_set = 'outfit'\n",
    "\n",
    "df_outfit_products_sel, configurations_count = select_valid_outfits(df_outfit_products, feature_name, code_sets, name_set, all_configurations)\n",
    "\n",
    "print(\"Total number of outfits selected:\", len(df_outfit_products_sel['cod_outfit'].unique()))\n",
    "\n",
    "df_outfit_products_sel.head()\n"
   ]
  },
  {
   "cell_type": "markdown",
   "id": "37d1dcc4-325c-468c-b4d4-6276a1d399a4",
   "metadata": {},
   "source": [
    "After selecting the valid outfits, we observe that only a minority of them can be considered trainable. Therefore, the model's performance will be evaluated based on its ability to distinguish good outfits from randomly created outfits using unseen products (unseen images). \n",
    "\n",
    "\n",
    "When randomly creating new outfits for evaluating the model later, the products will be selected at random based on the types of configurations considered during training:"
   ]
  },
  {
   "cell_type": "code",
   "execution_count": null,
   "id": "d3ab5b91-55fc-4688-a76f-5adcefe88984",
   "metadata": {},
   "outputs": [],
   "source": [
    "configurations_count_df = pd.DataFrame(list(configurations_count.items()), columns=['conf_id', 'size_conf'])\n",
    "configurations_count_df['conf_id'] = configurations_count_df['conf_id'].astype(int)\n",
    "configurations_count_df['prob_conf'] = configurations_count_df['size_conf'] / sum(configurations_count_df['size_conf'])\n",
    "configurations_count_df"
   ]
  },
  {
   "cell_type": "markdown",
   "id": "6a98d716-0bd7-4ca6-bb9b-ec1dc9a9ea37",
   "metadata": {},
   "source": [
    "Some additional information about the outfits and products considered in the training set is as follows:"
   ]
  },
  {
   "cell_type": "code",
   "execution_count": null,
   "id": "71c1af82-1701-4c3d-b46a-351068f42701",
   "metadata": {},
   "outputs": [],
   "source": [
    "name_set = 'outfit'\n",
    "code_sets = 'cod_outfit'\n",
    "get_grouped_counts(df_outfit_products_sel, code_sets, name_set)"
   ]
  },
  {
   "cell_type": "code",
   "execution_count": null,
   "id": "d9f0bc70-5da8-4497-b5b5-02dd454ea066",
   "metadata": {},
   "outputs": [],
   "source": [
    "df_outfit_products_sel['des_product_class'].value_counts() / df_outfit_products_sel['des_product_class'].count()"
   ]
  }
 ],
 "metadata": {
  "kernelspec": {
   "display_name": "Python 3 (ipykernel)",
   "language": "python",
   "name": "python3"
  },
  "language_info": {
   "codemirror_mode": {
    "name": "ipython",
    "version": 3
   },
   "file_extension": ".py",
   "mimetype": "text/x-python",
   "name": "python",
   "nbconvert_exporter": "python",
   "pygments_lexer": "ipython3",
   "version": "3.10.12"
  }
 },
 "nbformat": 4,
 "nbformat_minor": 5
}
