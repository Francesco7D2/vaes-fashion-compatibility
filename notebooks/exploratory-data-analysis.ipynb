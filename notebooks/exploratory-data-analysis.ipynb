{
 "cells": [
  {
   "cell_type": "markdown",
   "id": "01b6701b-8dda-4f49-84b4-a05fa55cde93",
   "metadata": {},
   "source": [
    "# Fashion compatibility - Data Exploration and Analysis\n",
    "\n",
    "---\n",
    "## Author Information\n",
    "- **Author:** Francesco Tedesco\n",
    "- **Email:** francescotedesco7d2@gmail.com\n",
    "- [**LinkedIn**](https://www.linkedin.com/in/francescotedesco7d2/)\n",
    "\n",
    "---\n",
    "## Overview\n",
    "This notebook explores the dataset to gain insights into the different types of outfits, in order to build a set of possible combinations of outfits for outfits.\n",
    "\n",
    "---\n"
   ]
  },
  {
   "cell_type": "code",
   "execution_count": 1,
   "id": "b318300f-8801-4e8c-a18f-2b831a2dd2ec",
   "metadata": {},
   "outputs": [],
   "source": [
    "import pandas as pd\n",
    "from collections import Counter\n",
    "\n",
    "from pathlib import Path\n",
    "import os\n",
    "\n",
    "os.chdir(str(Path.cwd().parent))\n",
    "\n",
    "from src.utils.setup_utilities import load_config, setup_logging\n",
    "from src.data_processing.group_manipulation import get_grouped_counts\n",
    "from src.data_processing.group_manipulation import get_grouped_counts_feature_values\n",
    "from src.data_processing.group_manipulation import get_unique_sets_features\n",
    "from src.data_processing.group_manipulation import create_combinations\n",
    "from src.data_processing.group_manipulation import create_configurations\n",
    "from src.data_processing.product_processing import get_des_product_class\n",
    "\n",
    "config = load_config()"
   ]
  },
  {
   "cell_type": "code",
   "execution_count": 2,
   "id": "b675c1cd-12d9-49b7-88e0-3152b7cd8e16",
   "metadata": {},
   "outputs": [],
   "source": [
    "df_outfits = pd.read_csv(config['data']['outfits_path'])\n",
    "df_products = pd.read_csv(config['data']['products_path'])\n",
    "df_outfit_products = pd.merge(df_outfits, df_products, on = 'cod_modelo_color', how = 'outer')"
   ]
  },
  {
   "cell_type": "markdown",
   "id": "95c86f8b-cd55-4a59-a4ad-b26e5701cfb3",
   "metadata": {},
   "source": [
    "## Initial exploration"
   ]
  },
  {
   "cell_type": "code",
   "execution_count": 3,
   "id": "2d70c8d9-8942-4759-86b9-3620149fd300",
   "metadata": {},
   "outputs": [
    {
     "data": {
      "text/html": [
       "<div>\n",
       "<style scoped>\n",
       "    .dataframe tbody tr th:only-of-type {\n",
       "        vertical-align: middle;\n",
       "    }\n",
       "\n",
       "    .dataframe tbody tr th {\n",
       "        vertical-align: top;\n",
       "    }\n",
       "\n",
       "    .dataframe thead th {\n",
       "        text-align: right;\n",
       "    }\n",
       "</style>\n",
       "<table border=\"1\" class=\"dataframe\">\n",
       "  <thead>\n",
       "    <tr style=\"text-align: right;\">\n",
       "      <th></th>\n",
       "      <th>cod_outfit</th>\n",
       "      <th>cod_modelo_color</th>\n",
       "    </tr>\n",
       "  </thead>\n",
       "  <tbody>\n",
       "    <tr>\n",
       "      <th>0</th>\n",
       "      <td>1</td>\n",
       "      <td>51000622-02</td>\n",
       "    </tr>\n",
       "    <tr>\n",
       "      <th>1</th>\n",
       "      <td>1</td>\n",
       "      <td>43067759-01</td>\n",
       "    </tr>\n",
       "    <tr>\n",
       "      <th>2</th>\n",
       "      <td>1</td>\n",
       "      <td>53060518-02</td>\n",
       "    </tr>\n",
       "    <tr>\n",
       "      <th>3</th>\n",
       "      <td>1</td>\n",
       "      <td>53030594-08</td>\n",
       "    </tr>\n",
       "    <tr>\n",
       "      <th>4</th>\n",
       "      <td>1</td>\n",
       "      <td>43077762-01</td>\n",
       "    </tr>\n",
       "  </tbody>\n",
       "</table>\n",
       "</div>"
      ],
      "text/plain": [
       "   cod_outfit cod_modelo_color\n",
       "0           1      51000622-02\n",
       "1           1      43067759-01\n",
       "2           1      53060518-02\n",
       "3           1      53030594-08\n",
       "4           1      43077762-01"
      ]
     },
     "execution_count": 3,
     "metadata": {},
     "output_type": "execute_result"
    }
   ],
   "source": [
    "df_outfits.head()"
   ]
  },
  {
   "cell_type": "markdown",
   "id": "8ccb575e-de2d-433c-8cd7-379c1871cbc6",
   "metadata": {},
   "source": [
    "The `df_outfits` dataframe contains the codes of each outfit and the products code associated. "
   ]
  },
  {
   "cell_type": "code",
   "execution_count": 4,
   "id": "16dec241-f458-45aa-b3ac-128afabf49a4",
   "metadata": {},
   "outputs": [
    {
     "data": {
      "text/html": [
       "<div>\n",
       "<style scoped>\n",
       "    .dataframe tbody tr th:only-of-type {\n",
       "        vertical-align: middle;\n",
       "    }\n",
       "\n",
       "    .dataframe tbody tr th {\n",
       "        vertical-align: top;\n",
       "    }\n",
       "\n",
       "    .dataframe thead th {\n",
       "        text-align: right;\n",
       "    }\n",
       "</style>\n",
       "<table border=\"1\" class=\"dataframe\">\n",
       "  <thead>\n",
       "    <tr style=\"text-align: right;\">\n",
       "      <th></th>\n",
       "      <th>cod_modelo_color</th>\n",
       "      <th>cod_color_code</th>\n",
       "      <th>des_color_specification_esp</th>\n",
       "      <th>des_agrup_color_eng</th>\n",
       "      <th>des_sex</th>\n",
       "      <th>des_age</th>\n",
       "      <th>des_line</th>\n",
       "      <th>des_fabric</th>\n",
       "      <th>des_product_category</th>\n",
       "      <th>des_product_aggregated_family</th>\n",
       "      <th>des_product_family</th>\n",
       "      <th>des_product_type</th>\n",
       "      <th>des_filename</th>\n",
       "    </tr>\n",
       "  </thead>\n",
       "  <tbody>\n",
       "    <tr>\n",
       "      <th>0</th>\n",
       "      <td>41085800-02</td>\n",
       "      <td>02</td>\n",
       "      <td>OFFWHITE</td>\n",
       "      <td>WHITE</td>\n",
       "      <td>Female</td>\n",
       "      <td>Adult</td>\n",
       "      <td>SHE</td>\n",
       "      <td>P-PLANA</td>\n",
       "      <td>Bottoms</td>\n",
       "      <td>Trousers &amp; leggings</td>\n",
       "      <td>Trousers</td>\n",
       "      <td>Trousers</td>\n",
       "      <td>datathon/images/2019_41085800_02.jpg</td>\n",
       "    </tr>\n",
       "    <tr>\n",
       "      <th>1</th>\n",
       "      <td>53000586-TO</td>\n",
       "      <td>TO</td>\n",
       "      <td>TEJANO OSCURO</td>\n",
       "      <td>BLUE</td>\n",
       "      <td>Female</td>\n",
       "      <td>Adult</td>\n",
       "      <td>SHE</td>\n",
       "      <td>J-JEANS</td>\n",
       "      <td>Bottoms</td>\n",
       "      <td>Jeans</td>\n",
       "      <td>Jeans</td>\n",
       "      <td>Jeans</td>\n",
       "      <td>datathon/images/2019_53000586_TO.jpg</td>\n",
       "    </tr>\n",
       "    <tr>\n",
       "      <th>2</th>\n",
       "      <td>53030601-81</td>\n",
       "      <td>81</td>\n",
       "      <td>ROSA PASTEL</td>\n",
       "      <td>PINK</td>\n",
       "      <td>Female</td>\n",
       "      <td>Adult</td>\n",
       "      <td>SHE</td>\n",
       "      <td>P-PLANA</td>\n",
       "      <td>Dresses, jumpsuits and Complete set</td>\n",
       "      <td>Dresses and jumpsuits</td>\n",
       "      <td>Dresses</td>\n",
       "      <td>Dress</td>\n",
       "      <td>datathon/images/2019_53030601_81.jpg</td>\n",
       "    </tr>\n",
       "    <tr>\n",
       "      <th>3</th>\n",
       "      <td>53050730-15</td>\n",
       "      <td>15</td>\n",
       "      <td>MOSTAZA</td>\n",
       "      <td>YELLOW</td>\n",
       "      <td>Female</td>\n",
       "      <td>Adult</td>\n",
       "      <td>SHE</td>\n",
       "      <td>P-PLANA</td>\n",
       "      <td>Dresses, jumpsuits and Complete set</td>\n",
       "      <td>Dresses and jumpsuits</td>\n",
       "      <td>Dresses</td>\n",
       "      <td>Dress</td>\n",
       "      <td>datathon/images/2019_53050730_15.jpg</td>\n",
       "    </tr>\n",
       "    <tr>\n",
       "      <th>4</th>\n",
       "      <td>53070773-70</td>\n",
       "      <td>70</td>\n",
       "      <td>ROJO</td>\n",
       "      <td>RED</td>\n",
       "      <td>Female</td>\n",
       "      <td>Adult</td>\n",
       "      <td>SHE</td>\n",
       "      <td>P-PLANA</td>\n",
       "      <td>Tops</td>\n",
       "      <td>Shirts</td>\n",
       "      <td>Shirt</td>\n",
       "      <td>Shirt</td>\n",
       "      <td>datathon/images/2019_53070773_70.jpg</td>\n",
       "    </tr>\n",
       "  </tbody>\n",
       "</table>\n",
       "</div>"
      ],
      "text/plain": [
       "  cod_modelo_color cod_color_code des_color_specification_esp  \\\n",
       "0      41085800-02             02                    OFFWHITE   \n",
       "1      53000586-TO             TO               TEJANO OSCURO   \n",
       "2      53030601-81             81                 ROSA PASTEL   \n",
       "3      53050730-15             15                     MOSTAZA   \n",
       "4      53070773-70             70                        ROJO   \n",
       "\n",
       "  des_agrup_color_eng des_sex des_age des_line des_fabric  \\\n",
       "0               WHITE  Female   Adult      SHE    P-PLANA   \n",
       "1                BLUE  Female   Adult      SHE    J-JEANS   \n",
       "2                PINK  Female   Adult      SHE    P-PLANA   \n",
       "3              YELLOW  Female   Adult      SHE    P-PLANA   \n",
       "4                 RED  Female   Adult      SHE    P-PLANA   \n",
       "\n",
       "                  des_product_category des_product_aggregated_family  \\\n",
       "0                              Bottoms           Trousers & leggings   \n",
       "1                              Bottoms                         Jeans   \n",
       "2  Dresses, jumpsuits and Complete set         Dresses and jumpsuits   \n",
       "3  Dresses, jumpsuits and Complete set         Dresses and jumpsuits   \n",
       "4                                 Tops                        Shirts   \n",
       "\n",
       "  des_product_family des_product_type                          des_filename  \n",
       "0           Trousers         Trousers  datathon/images/2019_41085800_02.jpg  \n",
       "1              Jeans            Jeans  datathon/images/2019_53000586_TO.jpg  \n",
       "2            Dresses            Dress  datathon/images/2019_53030601_81.jpg  \n",
       "3            Dresses            Dress  datathon/images/2019_53050730_15.jpg  \n",
       "4              Shirt            Shirt  datathon/images/2019_53070773_70.jpg  "
      ]
     },
     "execution_count": 4,
     "metadata": {},
     "output_type": "execute_result"
    }
   ],
   "source": [
    "df_products.head()"
   ]
  },
  {
   "cell_type": "markdown",
   "id": "27dbe1e5-2246-474a-b177-d6d5c1b6bca4",
   "metadata": {},
   "source": [
    "The `df_products` contains information about each product, including the path to the corresponding images.\n",
    "\n",
    "Some important things to consider: "
   ]
  },
  {
   "cell_type": "code",
   "execution_count": 5,
   "id": "204ece66-b014-4598-adbe-4478833a0f89",
   "metadata": {},
   "outputs": [
    {
     "name": "stdout",
     "output_type": "stream",
     "text": [
      "Total number of outfits: 7842\n"
     ]
    }
   ],
   "source": [
    "print(\"Total number of outfits:\", len(df_outfits['cod_outfit'].unique()))"
   ]
  },
  {
   "cell_type": "code",
   "execution_count": 6,
   "id": "b9706fbe-a2d8-4020-a552-3bdfa8a7669f",
   "metadata": {},
   "outputs": [
    {
     "name": "stdout",
     "output_type": "stream",
     "text": [
      "Total number of products: 9222\n"
     ]
    }
   ],
   "source": [
    "print(\"Total number of products:\", len(df_products['cod_modelo_color'].unique()))"
   ]
  },
  {
   "cell_type": "code",
   "execution_count": 7,
   "id": "7b688b6e-394f-4eaf-8490-c8167d95df93",
   "metadata": {},
   "outputs": [
    {
     "name": "stdout",
     "output_type": "stream",
     "text": [
      "Number of products without an outfit: 0\n"
     ]
    }
   ],
   "source": [
    "existing_products = set(df_products['cod_modelo_color'].unique())\n",
    "products_w_outfit = set(df_outfits['cod_modelo_color'].unique())\n",
    "\n",
    "products_without_outfit = existing_products - products_w_outfit\n",
    "\n",
    "print(\"Number of products without an outfit:\", len(products_without_outfit))"
   ]
  },
  {
   "cell_type": "code",
   "execution_count": 8,
   "id": "bae2ca44-3cfe-49ee-bb56-9d56a3d73c2d",
   "metadata": {},
   "outputs": [
    {
     "data": {
      "text/html": [
       "<div>\n",
       "<style scoped>\n",
       "    .dataframe tbody tr th:only-of-type {\n",
       "        vertical-align: middle;\n",
       "    }\n",
       "\n",
       "    .dataframe tbody tr th {\n",
       "        vertical-align: top;\n",
       "    }\n",
       "\n",
       "    .dataframe thead th {\n",
       "        text-align: right;\n",
       "    }\n",
       "</style>\n",
       "<table border=\"1\" class=\"dataframe\">\n",
       "  <thead>\n",
       "    <tr style=\"text-align: right;\">\n",
       "      <th></th>\n",
       "      <th>outfit_size</th>\n",
       "      <th>grouped_outfit_size</th>\n",
       "    </tr>\n",
       "  </thead>\n",
       "  <tbody>\n",
       "    <tr>\n",
       "      <th>0</th>\n",
       "      <td>2</td>\n",
       "      <td>30</td>\n",
       "    </tr>\n",
       "    <tr>\n",
       "      <th>1</th>\n",
       "      <td>3</td>\n",
       "      <td>142</td>\n",
       "    </tr>\n",
       "    <tr>\n",
       "      <th>2</th>\n",
       "      <td>4</td>\n",
       "      <td>758</td>\n",
       "    </tr>\n",
       "    <tr>\n",
       "      <th>3</th>\n",
       "      <td>5</td>\n",
       "      <td>3875</td>\n",
       "    </tr>\n",
       "    <tr>\n",
       "      <th>4</th>\n",
       "      <td>6</td>\n",
       "      <td>1737</td>\n",
       "    </tr>\n",
       "    <tr>\n",
       "      <th>5</th>\n",
       "      <td>7</td>\n",
       "      <td>674</td>\n",
       "    </tr>\n",
       "    <tr>\n",
       "      <th>6</th>\n",
       "      <td>8</td>\n",
       "      <td>309</td>\n",
       "    </tr>\n",
       "    <tr>\n",
       "      <th>7</th>\n",
       "      <td>9</td>\n",
       "      <td>174</td>\n",
       "    </tr>\n",
       "    <tr>\n",
       "      <th>8</th>\n",
       "      <td>10</td>\n",
       "      <td>95</td>\n",
       "    </tr>\n",
       "    <tr>\n",
       "      <th>9</th>\n",
       "      <td>11</td>\n",
       "      <td>26</td>\n",
       "    </tr>\n",
       "    <tr>\n",
       "      <th>10</th>\n",
       "      <td>12</td>\n",
       "      <td>13</td>\n",
       "    </tr>\n",
       "    <tr>\n",
       "      <th>11</th>\n",
       "      <td>13</td>\n",
       "      <td>8</td>\n",
       "    </tr>\n",
       "    <tr>\n",
       "      <th>12</th>\n",
       "      <td>15</td>\n",
       "      <td>1</td>\n",
       "    </tr>\n",
       "  </tbody>\n",
       "</table>\n",
       "</div>"
      ],
      "text/plain": [
       "    outfit_size  grouped_outfit_size\n",
       "0             2                   30\n",
       "1             3                  142\n",
       "2             4                  758\n",
       "3             5                 3875\n",
       "4             6                 1737\n",
       "5             7                  674\n",
       "6             8                  309\n",
       "7             9                  174\n",
       "8            10                   95\n",
       "9            11                   26\n",
       "10           12                   13\n",
       "11           13                    8\n",
       "12           15                    1"
      ]
     },
     "execution_count": 8,
     "metadata": {},
     "output_type": "execute_result"
    }
   ],
   "source": [
    "name_set = 'outfit'\n",
    "code_sets = 'cod_outfit'\n",
    "get_grouped_counts(df_outfits, code_sets, name_set)"
   ]
  },
  {
   "cell_type": "markdown",
   "id": "b8d6cc2b-aa23-4bfc-a61b-a7874cb62f4a",
   "metadata": {},
   "source": [
    "If we plot the number of outfits for each size, we can observe that there are potentially some outfits that can be excluded from the training set due to their low frequency."
   ]
  },
  {
   "cell_type": "code",
   "execution_count": 9,
   "id": "c67b0d6b-b65b-4864-b248-a22bbb20d171",
   "metadata": {},
   "outputs": [
    {
     "name": "stdout",
     "output_type": "stream",
     "text": [
      "<class 'pandas.core.frame.DataFrame'>\n",
      "RangeIndex: 9222 entries, 0 to 9221\n",
      "Data columns (total 13 columns):\n",
      " #   Column                         Non-Null Count  Dtype \n",
      "---  ------                         --------------  ----- \n",
      " 0   cod_modelo_color               9222 non-null   object\n",
      " 1   cod_color_code                 9222 non-null   object\n",
      " 2   des_color_specification_esp    9222 non-null   object\n",
      " 3   des_agrup_color_eng            9222 non-null   object\n",
      " 4   des_sex                        9222 non-null   object\n",
      " 5   des_age                        9222 non-null   object\n",
      " 6   des_line                       9222 non-null   object\n",
      " 7   des_fabric                     9222 non-null   object\n",
      " 8   des_product_category           9222 non-null   object\n",
      " 9   des_product_aggregated_family  9222 non-null   object\n",
      " 10  des_product_family             9222 non-null   object\n",
      " 11  des_product_type               9222 non-null   object\n",
      " 12  des_filename                   9222 non-null   object\n",
      "dtypes: object(13)\n",
      "memory usage: 936.7+ KB\n"
     ]
    }
   ],
   "source": [
    "df_products.info()"
   ]
  },
  {
   "cell_type": "markdown",
   "id": "fc6e47e8-c599-49d9-b21f-37d6dc81ef53",
   "metadata": {},
   "source": [
    "## Product description\n",
    "\n",
    "Since not all outfits will be considered in the training process, we should start by examining their descriptions to determine which descriptors are useful. Later, we can use this information to establish criteria for defining valid combinations. "
   ]
  },
  {
   "cell_type": "code",
   "execution_count": 10,
   "id": "08798797-7e33-47fa-a5ca-a4aa565d4d64",
   "metadata": {},
   "outputs": [
    {
     "data": {
      "text/plain": [
       "array(['Bottoms', 'Dresses, jumpsuits and Complete set', 'Tops',\n",
       "       'Accesories, Swim and Intimate', 'Outerwear', 'Beauty', 'Home'],\n",
       "      dtype=object)"
      ]
     },
     "execution_count": 10,
     "metadata": {},
     "output_type": "execute_result"
    }
   ],
   "source": [
    "df_products['des_product_category'].unique()"
   ]
  },
  {
   "cell_type": "code",
   "execution_count": 11,
   "id": "4f8e505a-115a-4ce5-8b07-40935cc5eee1",
   "metadata": {},
   "outputs": [
    {
     "data": {
      "text/plain": [
       "array(['Trousers', 'Jeans', 'Dresses', 'Shirt', 'Sweater', 'Skirts',\n",
       "       'Jewellery', 'Bags', 'Glasses', 'Wallets & cases', 'Shorts',\n",
       "       'Tops', 'Belts and Ties', 'Jumpsuit', 'Jackets', 'Coats',\n",
       "       'Footwear', 'Hats, scarves and gloves', 'T-shirt', 'Blazers',\n",
       "       'Gadgets', 'Swimwear', 'Vest', 'Fragances', 'Cardigans',\n",
       "       'Trenchcoats', 'Puffer coats', 'Outer Vest',\n",
       "       'Leggings and joggers', 'Deco Accessories', 'Poloshirts',\n",
       "       'Intimate', 'Sweatshirts', 'Deco Textiles', 'Bedding', 'Bodysuits',\n",
       "       'Leather jackets', 'Parkas', 'Glassware'], dtype=object)"
      ]
     },
     "execution_count": 11,
     "metadata": {},
     "output_type": "execute_result"
    }
   ],
   "source": [
    "df_products['des_product_family'].unique()"
   ]
  },
  {
   "cell_type": "code",
   "execution_count": 12,
   "id": "cfd242d7-902e-4a90-ac6a-a890a4f30f9d",
   "metadata": {},
   "outputs": [
    {
     "data": {
      "text/plain": [
       "array(['Trousers', 'Jeans', 'Dress', 'Shirt', 'Sweater', 'Skirt',\n",
       "       'Earrings', 'Totes bag', 'Sunglasses', 'Card holder', 'Wallet',\n",
       "       'Shorts', 'Top', 'Belt', 'Crossbody bag', 'Jumpsuit', 'Jacket',\n",
       "       'Coat', 'Sandals', 'Kerchief', 'Shoes', 'Blouse', 'T-Shirt',\n",
       "       'Blazer', 'Umbrella', 'Citybag', 'Bikini top', 'Vest',\n",
       "       'Shoulder bag', 'Bodymist', 'Beanie', 'Handbag', 'Cardigan',\n",
       "       'Glasses', 'Trenchcoat', 'Puffer coat', 'Necklace',\n",
       "       'Bikini pantie', 'Outer vest', 'Scarf', 'Ankle Boots', 'Leggings',\n",
       "       'Basket', 'Cosmetic bag', 'Ring', 'Poloshirt', 'Pyjama',\n",
       "       'Sweatshirt', 'Plaid', 'Boots', 'Hat', 'Duvet Covers',\n",
       "       'Beach Towel', 'Gloves', 'Bodysuit', 'Fragance', 'Leather Jacket',\n",
       "       'Hairband', 'Bermudas', 'Cap', 'Parka', 'Pyjama Trousers',\n",
       "       'Pyjama Shirt', 'Bras', 'Trainers', 'Foulard', 'Hairclip', 'Case',\n",
       "       'Bracelet', 'Pyjama Shorts', 'Sweater Vest', 'Pyjiama Sweater',\n",
       "       'Bucket bag', 'Jacket (Cazadora)', 'Purse', 'Belt bag',\n",
       "       'Sock (Pack)', 'Pillow Case', 'Socks', 'Swimsuit', 'Knicker',\n",
       "       'Overshirt', 'Overall', 'Cushion Case', 'Cardigan Vest',\n",
       "       'Mini Bag', 'Tumblers', 'Carpet Yarn', 'Pyjama T-Shirt', 'Jug',\n",
       "       'Tights', 'Gadget', 'Poncho', 'Shape', 'Clutch and Pochettes',\n",
       "       'Headband', 'Dressing Gown (Bata)', 'Home Spray', 'Curtain',\n",
       "       'Joggers', 'Backpack', 'Candle', 'Cape', 'Kaftan', 'Pyjama Top',\n",
       "       'Pyjama Sweatshirt', 'Nightgown', 'Skort', 'Tie', 'Keyring', 'Box',\n",
       "       'Glasses case', 'Turban', 'Pichi', 'Braces', 'Bedspread',\n",
       "       'Slippers', 'Quilt', 'Bed Cushion Case', 'Pyjama Cardigan',\n",
       "       'Candle Holder', 'Organiser', 'Clogs'], dtype=object)"
      ]
     },
     "execution_count": 12,
     "metadata": {},
     "output_type": "execute_result"
    }
   ],
   "source": [
    "df_products['des_product_type'].unique()"
   ]
  },
  {
   "cell_type": "markdown",
   "id": "64863ea5-42bb-48e2-91df-79770ff06351",
   "metadata": {},
   "source": [
    "We can observe that as the description becomes more specific, the number of different labels increases. Let's examine the counts for the 'des_product_category' (less specific description) values:"
   ]
  },
  {
   "cell_type": "code",
   "execution_count": 13,
   "id": "46a5e9cf-a11f-46c6-9002-4fa129009a18",
   "metadata": {},
   "outputs": [
    {
     "data": {
      "text/plain": [
       "des_product_category\n",
       "Accesories, Swim and Intimate          27315\n",
       "Tops                                    6313\n",
       "Bottoms                                 5839\n",
       "Outerwear                               2080\n",
       "Dresses, jumpsuits and Complete set     1777\n",
       "Home                                     169\n",
       "Beauty                                    89\n",
       "Name: count, dtype: int64"
      ]
     },
     "execution_count": 13,
     "metadata": {},
     "output_type": "execute_result"
    }
   ],
   "source": [
    "df_outfit_products['des_product_category'].value_counts()"
   ]
  },
  {
   "cell_type": "markdown",
   "id": "222d46b7-1426-4196-a52f-8c8a1652c6c7",
   "metadata": {},
   "source": [
    "As Home and Beauty labels are less common, we can exclude them when defining valid outfit combinations. The other labels are more generalizable, and they are less likely to contain 'strange' products. This cannot be said for the most common label (Accesories, Swim and Intimate), where sublabels may potentially have very low frequency and/or make less sense for products."
   ]
  },
  {
   "cell_type": "code",
   "execution_count": 14,
   "id": "80da876d-38b3-47f6-883f-5cb0513db645",
   "metadata": {},
   "outputs": [
    {
     "data": {
      "text/plain": [
       "des_product_family\n",
       "Jewellery                   9686\n",
       "Footwear                    7976\n",
       "Bags                        6152\n",
       "Glasses                      910\n",
       "Belts and Ties               767\n",
       "Wallets & cases              611\n",
       "Hats, scarves and gloves     551\n",
       "Intimate                     473\n",
       "Swimwear                     158\n",
       "Gadgets                       31\n",
       "Name: count, dtype: int64"
      ]
     },
     "execution_count": 14,
     "metadata": {},
     "output_type": "execute_result"
    }
   ],
   "source": [
    "df_accesories = df_outfit_products[df_outfit_products['des_product_category'] == 'Accesories, Swim and Intimate']\n",
    "df_accesories['des_product_family'].value_counts()"
   ]
  },
  {
   "cell_type": "markdown",
   "id": "1d9cdd4c-2aa4-4f7f-9e76-11c322bc72d4",
   "metadata": {},
   "source": [
    "The same observation can be made here for the jewelry family. Let's examine the corresponding subtypes."
   ]
  },
  {
   "cell_type": "code",
   "execution_count": 15,
   "id": "1a7fa119-a601-44cd-8b9f-4f99409e68b7",
   "metadata": {},
   "outputs": [
    {
     "data": {
      "text/plain": [
       "des_product_type\n",
       "Earrings    5858\n",
       "Ring        1832\n",
       "Necklace    1363\n",
       "Bracelet     614\n",
       "Hairclip      19\n",
       "Name: count, dtype: int64"
      ]
     },
     "execution_count": 15,
     "metadata": {},
     "output_type": "execute_result"
    }
   ],
   "source": [
    "df_accesories = df_outfit_products[df_outfit_products['des_product_category'] == 'Accesories, Swim and Intimate']\n",
    "df_jewellery = df_accesories[df_accesories['des_product_family'] == 'Jewellery']\n",
    "df_jewellery['des_product_type'].value_counts()"
   ]
  },
  {
   "cell_type": "markdown",
   "id": "5d19a10d-87a2-4695-9ccb-b985c05dba0c",
   "metadata": {},
   "source": [
    "We can now create a personalized product class by combining the three column descriptors we just examined."
   ]
  },
  {
   "cell_type": "code",
   "execution_count": 16,
   "id": "58ef4e8a-4567-4477-afd2-448a9c8b7ccf",
   "metadata": {},
   "outputs": [],
   "source": [
    "df_outfit_products = df_outfit_products.copy()\n",
    "df_outfit_products['des_product_class'] = df_outfit_products.apply(get_des_product_class, axis=1)"
   ]
  },
  {
   "cell_type": "code",
   "execution_count": 17,
   "id": "c323aa65-9b55-437f-9f17-1da1f9c38cca",
   "metadata": {},
   "outputs": [
    {
     "data": {
      "text/plain": [
       "array(['Accesories, Swim and Intimate', 'Tops', 'Earrings', 'Bottoms',\n",
       "       'Outerwear', 'Dresses, jumpsuits and Complete set', 'Necklace',\n",
       "       'Bracelet', 'Ring', 'Home', 'Beauty', 'Hairclip'], dtype=object)"
      ]
     },
     "execution_count": 17,
     "metadata": {},
     "output_type": "execute_result"
    }
   ],
   "source": [
    "df_outfit_products['des_product_class'].unique()"
   ]
  },
  {
   "cell_type": "markdown",
   "id": "8e013066-0d88-4c3d-8583-e1b6de4fc61a",
   "metadata": {},
   "source": [
    "## Outfits structure \n",
    "\n",
    "\n",
    "Now that we've created a new class to describe the products, let's take a closer look at how the outfits are actually constructed. \n"
   ]
  },
  {
   "cell_type": "code",
   "execution_count": 18,
   "id": "cd73287c-2c83-4f99-9b6a-839f8f49d213",
   "metadata": {},
   "outputs": [
    {
     "data": {
      "text/html": [
       "<div>\n",
       "<style scoped>\n",
       "    .dataframe tbody tr th:only-of-type {\n",
       "        vertical-align: middle;\n",
       "    }\n",
       "\n",
       "    .dataframe tbody tr th {\n",
       "        vertical-align: top;\n",
       "    }\n",
       "\n",
       "    .dataframe thead th {\n",
       "        text-align: right;\n",
       "    }\n",
       "</style>\n",
       "<table border=\"1\" class=\"dataframe\">\n",
       "  <thead>\n",
       "    <tr style=\"text-align: right;\">\n",
       "      <th></th>\n",
       "      <th>des_product_class_set</th>\n",
       "      <th>des_product_class_outfit_codes</th>\n",
       "      <th>des_product_class_count</th>\n",
       "    </tr>\n",
       "  </thead>\n",
       "  <tbody>\n",
       "    <tr>\n",
       "      <th>1</th>\n",
       "      <td>{'Accesories, Swim and Intimate': 2}</td>\n",
       "      <td>[1571, 1572, 1573, 1574, 1580, 1620, 1621, 203...</td>\n",
       "      <td>20</td>\n",
       "    </tr>\n",
       "    <tr>\n",
       "      <th>3</th>\n",
       "      <td>{'Tops': 1, 'Bottoms': 1}</td>\n",
       "      <td>[3712, 3755, 3818, 7373]</td>\n",
       "      <td>4</td>\n",
       "    </tr>\n",
       "    <tr>\n",
       "      <th>0</th>\n",
       "      <td>{'Tops': 1, 'Earrings': 1}</td>\n",
       "      <td>[1214, 3872]</td>\n",
       "      <td>2</td>\n",
       "    </tr>\n",
       "    <tr>\n",
       "      <th>2</th>\n",
       "      <td>{'Outerwear': 1, 'Dresses, jumpsuits and Compl...</td>\n",
       "      <td>[2036]</td>\n",
       "      <td>1</td>\n",
       "    </tr>\n",
       "    <tr>\n",
       "      <th>4</th>\n",
       "      <td>{'Necklace': 1, 'Outerwear': 1}</td>\n",
       "      <td>[5448]</td>\n",
       "      <td>1</td>\n",
       "    </tr>\n",
       "  </tbody>\n",
       "</table>\n",
       "</div>"
      ],
      "text/plain": [
       "                               des_product_class_set  \\\n",
       "1               {'Accesories, Swim and Intimate': 2}   \n",
       "3                          {'Tops': 1, 'Bottoms': 1}   \n",
       "0                         {'Tops': 1, 'Earrings': 1}   \n",
       "2  {'Outerwear': 1, 'Dresses, jumpsuits and Compl...   \n",
       "4                    {'Necklace': 1, 'Outerwear': 1}   \n",
       "\n",
       "                      des_product_class_outfit_codes  des_product_class_count  \n",
       "1  [1571, 1572, 1573, 1574, 1580, 1620, 1621, 203...                       20  \n",
       "3                           [3712, 3755, 3818, 7373]                        4  \n",
       "0                                       [1214, 3872]                        2  \n",
       "2                                             [2036]                        1  \n",
       "4                                             [5448]                        1  "
      ]
     },
     "execution_count": 18,
     "metadata": {},
     "output_type": "execute_result"
    }
   ],
   "source": [
    "size = 2\n",
    "feature_name = 'des_product_class'\n",
    "name_set = 'outfit'\n",
    "code_sets = 'cod_outfit'\n",
    "\n",
    "result_df = get_grouped_counts_feature_values(df_outfit_products, code_sets, name_set, feature_name)\n",
    "tuple_set = result_df[result_df['outfit_size'] == size][f'cod_outfit_{feature_name}_tuple'].iloc[0]\n",
    "features_sets = get_unique_sets_features(tuple_set, feature_name)\n",
    "features_sets.head()"
   ]
  },
  {
   "cell_type": "code",
   "execution_count": 19,
   "id": "71ec2971-6ba0-4f32-951a-7138559f5f40",
   "metadata": {},
   "outputs": [
    {
     "data": {
      "text/html": [
       "<div>\n",
       "<style scoped>\n",
       "    .dataframe tbody tr th:only-of-type {\n",
       "        vertical-align: middle;\n",
       "    }\n",
       "\n",
       "    .dataframe tbody tr th {\n",
       "        vertical-align: top;\n",
       "    }\n",
       "\n",
       "    .dataframe thead th {\n",
       "        text-align: right;\n",
       "    }\n",
       "</style>\n",
       "<table border=\"1\" class=\"dataframe\">\n",
       "  <thead>\n",
       "    <tr style=\"text-align: right;\">\n",
       "      <th></th>\n",
       "      <th>des_product_class_set</th>\n",
       "      <th>des_product_class_outfit_codes</th>\n",
       "      <th>des_product_class_count</th>\n",
       "    </tr>\n",
       "  </thead>\n",
       "  <tbody>\n",
       "    <tr>\n",
       "      <th>4</th>\n",
       "      <td>{'Accesories, Swim and Intimate': 3}</td>\n",
       "      <td>[591, 810, 813, 990, 1141, 1161, 1308, 1318, 1...</td>\n",
       "      <td>38</td>\n",
       "    </tr>\n",
       "    <tr>\n",
       "      <th>10</th>\n",
       "      <td>{'Dresses, jumpsuits and Complete set': 1, 'Ea...</td>\n",
       "      <td>[942, 1333, 1504, 1582, 1594, 1809, 2068, 2094...</td>\n",
       "      <td>18</td>\n",
       "    </tr>\n",
       "    <tr>\n",
       "      <th>15</th>\n",
       "      <td>{'Accesories, Swim and Intimate': 2, 'Ring': 1}</td>\n",
       "      <td>[1085, 1151, 1311, 1486, 1688, 1753, 2489, 249...</td>\n",
       "      <td>11</td>\n",
       "    </tr>\n",
       "    <tr>\n",
       "      <th>6</th>\n",
       "      <td>{'Earrings': 1, 'Accesories, Swim and Intimate...</td>\n",
       "      <td>[725, 889, 1215, 1471, 1568, 3131, 4788, 5306,...</td>\n",
       "      <td>9</td>\n",
       "    </tr>\n",
       "    <tr>\n",
       "      <th>14</th>\n",
       "      <td>{'Dresses, jumpsuits and Complete set': 1, 'Ac...</td>\n",
       "      <td>[1019, 1593, 3368, 5464, 5479, 6421, 6949, 696...</td>\n",
       "      <td>9</td>\n",
       "    </tr>\n",
       "  </tbody>\n",
       "</table>\n",
       "</div>"
      ],
      "text/plain": [
       "                                des_product_class_set  \\\n",
       "4                {'Accesories, Swim and Intimate': 3}   \n",
       "10  {'Dresses, jumpsuits and Complete set': 1, 'Ea...   \n",
       "15    {'Accesories, Swim and Intimate': 2, 'Ring': 1}   \n",
       "6   {'Earrings': 1, 'Accesories, Swim and Intimate...   \n",
       "14  {'Dresses, jumpsuits and Complete set': 1, 'Ac...   \n",
       "\n",
       "                       des_product_class_outfit_codes  des_product_class_count  \n",
       "4   [591, 810, 813, 990, 1141, 1161, 1308, 1318, 1...                       38  \n",
       "10  [942, 1333, 1504, 1582, 1594, 1809, 2068, 2094...                       18  \n",
       "15  [1085, 1151, 1311, 1486, 1688, 1753, 2489, 249...                       11  \n",
       "6   [725, 889, 1215, 1471, 1568, 3131, 4788, 5306,...                        9  \n",
       "14  [1019, 1593, 3368, 5464, 5479, 6421, 6949, 696...                        9  "
      ]
     },
     "execution_count": 19,
     "metadata": {},
     "output_type": "execute_result"
    }
   ],
   "source": [
    "size = 3\n",
    "feature_name = 'des_product_class'\n",
    "name_set = 'outfit'\n",
    "code_sets = 'cod_outfit'\n",
    "\n",
    "result_df = get_grouped_counts_feature_values(df_outfit_products, code_sets, name_set, feature_name)\n",
    "tuple_set = result_df[result_df['outfit_size'] == size][f'cod_outfit_{feature_name}_tuple'].iloc[0]\n",
    "features_sets = get_unique_sets_features(tuple_set, feature_name)\n",
    "features_sets.head()"
   ]
  },
  {
   "cell_type": "code",
   "execution_count": 20,
   "id": "4b7c63e7-cfe6-493e-93ea-801aae431033",
   "metadata": {},
   "outputs": [
    {
     "data": {
      "text/html": [
       "<div>\n",
       "<style scoped>\n",
       "    .dataframe tbody tr th:only-of-type {\n",
       "        vertical-align: middle;\n",
       "    }\n",
       "\n",
       "    .dataframe tbody tr th {\n",
       "        vertical-align: top;\n",
       "    }\n",
       "\n",
       "    .dataframe thead th {\n",
       "        text-align: right;\n",
       "    }\n",
       "</style>\n",
       "<table border=\"1\" class=\"dataframe\">\n",
       "  <thead>\n",
       "    <tr style=\"text-align: right;\">\n",
       "      <th></th>\n",
       "      <th>des_product_class_set</th>\n",
       "      <th>des_product_class_outfit_codes</th>\n",
       "      <th>des_product_class_count</th>\n",
       "    </tr>\n",
       "  </thead>\n",
       "  <tbody>\n",
       "    <tr>\n",
       "      <th>3</th>\n",
       "      <td>{'Dresses, jumpsuits and Complete set': 1, 'Ea...</td>\n",
       "      <td>[55, 160, 191, 229, 231, 232, 249, 251, 252, 2...</td>\n",
       "      <td>220</td>\n",
       "    </tr>\n",
       "    <tr>\n",
       "      <th>2</th>\n",
       "      <td>{'Bottoms': 1, 'Tops': 1, 'Earrings': 1, 'Acce...</td>\n",
       "      <td>[39, 185, 288, 350, 352, 369, 425, 428, 463, 4...</td>\n",
       "      <td>101</td>\n",
       "    </tr>\n",
       "    <tr>\n",
       "      <th>12</th>\n",
       "      <td>{'Accesories, Swim and Intimate': 3, 'Earrings...</td>\n",
       "      <td>[595, 612, 718, 878, 883, 888, 892, 949, 964, ...</td>\n",
       "      <td>59</td>\n",
       "    </tr>\n",
       "    <tr>\n",
       "      <th>9</th>\n",
       "      <td>{'Tops': 1, 'Bottoms': 1, 'Accesories, Swim an...</td>\n",
       "      <td>[312, 366, 484, 570, 574, 688, 701, 739, 789, ...</td>\n",
       "      <td>55</td>\n",
       "    </tr>\n",
       "    <tr>\n",
       "      <th>13</th>\n",
       "      <td>{'Accesories, Swim and Intimate': 3, 'Ring': 1}</td>\n",
       "      <td>[609, 709, 714, 880, 890, 895, 982, 987, 988, ...</td>\n",
       "      <td>53</td>\n",
       "    </tr>\n",
       "  </tbody>\n",
       "</table>\n",
       "</div>"
      ],
      "text/plain": [
       "                                des_product_class_set  \\\n",
       "3   {'Dresses, jumpsuits and Complete set': 1, 'Ea...   \n",
       "2   {'Bottoms': 1, 'Tops': 1, 'Earrings': 1, 'Acce...   \n",
       "12  {'Accesories, Swim and Intimate': 3, 'Earrings...   \n",
       "9   {'Tops': 1, 'Bottoms': 1, 'Accesories, Swim an...   \n",
       "13    {'Accesories, Swim and Intimate': 3, 'Ring': 1}   \n",
       "\n",
       "                       des_product_class_outfit_codes  des_product_class_count  \n",
       "3   [55, 160, 191, 229, 231, 232, 249, 251, 252, 2...                      220  \n",
       "2   [39, 185, 288, 350, 352, 369, 425, 428, 463, 4...                      101  \n",
       "12  [595, 612, 718, 878, 883, 888, 892, 949, 964, ...                       59  \n",
       "9   [312, 366, 484, 570, 574, 688, 701, 739, 789, ...                       55  \n",
       "13  [609, 709, 714, 880, 890, 895, 982, 987, 988, ...                       53  "
      ]
     },
     "execution_count": 20,
     "metadata": {},
     "output_type": "execute_result"
    }
   ],
   "source": [
    "size = 4\n",
    "feature_name = 'des_product_class'\n",
    "name_set = 'outfit'\n",
    "code_sets = 'cod_outfit'\n",
    "\n",
    "result_df = get_grouped_counts_feature_values(df_outfit_products, code_sets, name_set, feature_name)\n",
    "tuple_set = result_df[result_df['outfit_size'] == size][f'cod_outfit_{feature_name}_tuple'].iloc[0]\n",
    "features_sets = get_unique_sets_features(tuple_set, feature_name)\n",
    "features_sets.head()"
   ]
  },
  {
   "cell_type": "code",
   "execution_count": 21,
   "id": "795825f8-5157-438c-b822-9a08ca100095",
   "metadata": {},
   "outputs": [
    {
     "data": {
      "text/html": [
       "<div>\n",
       "<style scoped>\n",
       "    .dataframe tbody tr th:only-of-type {\n",
       "        vertical-align: middle;\n",
       "    }\n",
       "\n",
       "    .dataframe tbody tr th {\n",
       "        vertical-align: top;\n",
       "    }\n",
       "\n",
       "    .dataframe thead th {\n",
       "        text-align: right;\n",
       "    }\n",
       "</style>\n",
       "<table border=\"1\" class=\"dataframe\">\n",
       "  <thead>\n",
       "    <tr style=\"text-align: right;\">\n",
       "      <th></th>\n",
       "      <th>des_product_type_set</th>\n",
       "      <th>des_product_type_outfit_codes</th>\n",
       "      <th>des_product_type_count</th>\n",
       "    </tr>\n",
       "  </thead>\n",
       "  <tbody>\n",
       "    <tr>\n",
       "      <th>3</th>\n",
       "      <td>{'Dress': 1, 'Handbag': 1, 'Sandals': 1, 'Earr...</td>\n",
       "      <td>[15, 22, 23, 24, 33, 37, 153, 163, 228, 353, 3...</td>\n",
       "      <td>54</td>\n",
       "    </tr>\n",
       "    <tr>\n",
       "      <th>444</th>\n",
       "      <td>{'Crossbody bag': 1, 'Dress': 1, 'Ring': 1, 'S...</td>\n",
       "      <td>[2600, 2601, 2804, 2914, 3336, 3538, 4052, 426...</td>\n",
       "      <td>35</td>\n",
       "    </tr>\n",
       "    <tr>\n",
       "      <th>7</th>\n",
       "      <td>{'Necklace': 1, 'Dress': 1, 'Handbag': 1, 'Ear...</td>\n",
       "      <td>[32, 57, 324, 516, 645, 825, 862, 1016, 1231, ...</td>\n",
       "      <td>35</td>\n",
       "    </tr>\n",
       "    <tr>\n",
       "      <th>440</th>\n",
       "      <td>{'Shoulder bag': 1, 'Earrings': 1, 'Dress': 1,...</td>\n",
       "      <td>[2592, 2631, 2821, 3405, 3448, 3480, 3685, 401...</td>\n",
       "      <td>32</td>\n",
       "    </tr>\n",
       "    <tr>\n",
       "      <th>459</th>\n",
       "      <td>{'Sunglasses': 1, 'Sandals': 1, 'Earrings': 1,...</td>\n",
       "      <td>[2627, 2644, 2699, 2776, 2778, 2817, 2823, 346...</td>\n",
       "      <td>31</td>\n",
       "    </tr>\n",
       "  </tbody>\n",
       "</table>\n",
       "</div>"
      ],
      "text/plain": [
       "                                  des_product_type_set  \\\n",
       "3    {'Dress': 1, 'Handbag': 1, 'Sandals': 1, 'Earr...   \n",
       "444  {'Crossbody bag': 1, 'Dress': 1, 'Ring': 1, 'S...   \n",
       "7    {'Necklace': 1, 'Dress': 1, 'Handbag': 1, 'Ear...   \n",
       "440  {'Shoulder bag': 1, 'Earrings': 1, 'Dress': 1,...   \n",
       "459  {'Sunglasses': 1, 'Sandals': 1, 'Earrings': 1,...   \n",
       "\n",
       "                         des_product_type_outfit_codes  des_product_type_count  \n",
       "3    [15, 22, 23, 24, 33, 37, 153, 163, 228, 353, 3...                      54  \n",
       "444  [2600, 2601, 2804, 2914, 3336, 3538, 4052, 426...                      35  \n",
       "7    [32, 57, 324, 516, 645, 825, 862, 1016, 1231, ...                      35  \n",
       "440  [2592, 2631, 2821, 3405, 3448, 3480, 3685, 401...                      32  \n",
       "459  [2627, 2644, 2699, 2776, 2778, 2817, 2823, 346...                      31  "
      ]
     },
     "execution_count": 21,
     "metadata": {},
     "output_type": "execute_result"
    }
   ],
   "source": [
    "size = 5\n",
    "feature_name = 'des_product_type'\n",
    "name_set = 'outfit'\n",
    "code_sets = 'cod_outfit'\n",
    "\n",
    "result_df = get_grouped_counts_feature_values(df_outfit_products, code_sets, name_set, feature_name)\n",
    "tuple_set = result_df[result_df['outfit_size'] == size][f'cod_outfit_{feature_name}_tuple'].iloc[0]\n",
    "features_sets = get_unique_sets_features(tuple_set, feature_name)\n",
    "features_sets.head()"
   ]
  },
  {
   "cell_type": "code",
   "execution_count": 22,
   "id": "7865bccd-8b81-4aa9-a00b-580a3be91190",
   "metadata": {},
   "outputs": [
    {
     "data": {
      "text/html": [
       "<div>\n",
       "<style scoped>\n",
       "    .dataframe tbody tr th:only-of-type {\n",
       "        vertical-align: middle;\n",
       "    }\n",
       "\n",
       "    .dataframe tbody tr th {\n",
       "        vertical-align: top;\n",
       "    }\n",
       "\n",
       "    .dataframe thead th {\n",
       "        text-align: right;\n",
       "    }\n",
       "</style>\n",
       "<table border=\"1\" class=\"dataframe\">\n",
       "  <thead>\n",
       "    <tr style=\"text-align: right;\">\n",
       "      <th></th>\n",
       "      <th>des_product_category_set</th>\n",
       "      <th>des_product_category_outfit_codes</th>\n",
       "      <th>des_product_category_count</th>\n",
       "    </tr>\n",
       "  </thead>\n",
       "  <tbody>\n",
       "    <tr>\n",
       "      <th>1</th>\n",
       "      <td>{'Accesories, Swim and Intimate': 4, 'Tops': 1...</td>\n",
       "      <td>[7, 27, 28, 30, 44, 45, 51, 58, 60, 62, 70, 82...</td>\n",
       "      <td>587</td>\n",
       "    </tr>\n",
       "    <tr>\n",
       "      <th>3</th>\n",
       "      <td>{'Bottoms': 1, 'Outerwear': 1, 'Accesories, Sw...</td>\n",
       "      <td>[40, 67, 69, 76, 79, 80, 81, 83, 84, 105, 114,...</td>\n",
       "      <td>558</td>\n",
       "    </tr>\n",
       "    <tr>\n",
       "      <th>2</th>\n",
       "      <td>{'Dresses, jumpsuits and Complete set': 1, 'Ac...</td>\n",
       "      <td>[13, 77, 98, 200, 212, 213, 221, 239, 267, 274...</td>\n",
       "      <td>181</td>\n",
       "    </tr>\n",
       "    <tr>\n",
       "      <th>4</th>\n",
       "      <td>{'Bottoms': 1, 'Tops': 2, 'Accesories, Swim an...</td>\n",
       "      <td>[50, 65, 137, 408, 417, 495, 712, 770, 790, 85...</td>\n",
       "      <td>169</td>\n",
       "    </tr>\n",
       "    <tr>\n",
       "      <th>13</th>\n",
       "      <td>{'Bottoms': 2, 'Tops': 1, 'Accesories, Swim an...</td>\n",
       "      <td>[1029, 1321, 2183, 2320, 2580, 2814, 3022, 304...</td>\n",
       "      <td>39</td>\n",
       "    </tr>\n",
       "  </tbody>\n",
       "</table>\n",
       "</div>"
      ],
      "text/plain": [
       "                             des_product_category_set  \\\n",
       "1   {'Accesories, Swim and Intimate': 4, 'Tops': 1...   \n",
       "3   {'Bottoms': 1, 'Outerwear': 1, 'Accesories, Sw...   \n",
       "2   {'Dresses, jumpsuits and Complete set': 1, 'Ac...   \n",
       "4   {'Bottoms': 1, 'Tops': 2, 'Accesories, Swim an...   \n",
       "13  {'Bottoms': 2, 'Tops': 1, 'Accesories, Swim an...   \n",
       "\n",
       "                    des_product_category_outfit_codes  \\\n",
       "1   [7, 27, 28, 30, 44, 45, 51, 58, 60, 62, 70, 82...   \n",
       "3   [40, 67, 69, 76, 79, 80, 81, 83, 84, 105, 114,...   \n",
       "2   [13, 77, 98, 200, 212, 213, 221, 239, 267, 274...   \n",
       "4   [50, 65, 137, 408, 417, 495, 712, 770, 790, 85...   \n",
       "13  [1029, 1321, 2183, 2320, 2580, 2814, 3022, 304...   \n",
       "\n",
       "    des_product_category_count  \n",
       "1                          587  \n",
       "3                          558  \n",
       "2                          181  \n",
       "4                          169  \n",
       "13                          39  "
      ]
     },
     "execution_count": 22,
     "metadata": {},
     "output_type": "execute_result"
    }
   ],
   "source": [
    "size = 6\n",
    "feature_name = 'des_product_category'\n",
    "name_set = 'outfit'\n",
    "code_sets = 'cod_outfit'\n",
    "\n",
    "result_df = get_grouped_counts_feature_values(df_outfit_products, code_sets, name_set, feature_name)\n",
    "tuple_set = result_df[result_df['outfit_size'] == size][f'cod_outfit_{feature_name}_tuple'].iloc[0]\n",
    "features_sets = get_unique_sets_features(tuple_set, feature_name)\n",
    "features_sets.head()"
   ]
  },
  {
   "cell_type": "code",
   "execution_count": 23,
   "id": "56faa5bc-2ddd-43a1-9b6f-00398d204d6e",
   "metadata": {},
   "outputs": [
    {
     "data": {
      "text/html": [
       "<div>\n",
       "<style scoped>\n",
       "    .dataframe tbody tr th:only-of-type {\n",
       "        vertical-align: middle;\n",
       "    }\n",
       "\n",
       "    .dataframe tbody tr th {\n",
       "        vertical-align: top;\n",
       "    }\n",
       "\n",
       "    .dataframe thead th {\n",
       "        text-align: right;\n",
       "    }\n",
       "</style>\n",
       "<table border=\"1\" class=\"dataframe\">\n",
       "  <thead>\n",
       "    <tr style=\"text-align: right;\">\n",
       "      <th></th>\n",
       "      <th>des_product_class_set</th>\n",
       "      <th>des_product_class_outfit_codes</th>\n",
       "      <th>des_product_class_count</th>\n",
       "    </tr>\n",
       "  </thead>\n",
       "  <tbody>\n",
       "    <tr>\n",
       "      <th>9</th>\n",
       "      <td>{'Bottoms': 1, 'Tops': 1, 'Earrings': 1, 'Acce...</td>\n",
       "      <td>[72, 99, 202, 219, 244, 333, 382, 389, 572, 65...</td>\n",
       "      <td>45</td>\n",
       "    </tr>\n",
       "    <tr>\n",
       "      <th>5</th>\n",
       "      <td>{'Earrings': 1, 'Outerwear': 1, 'Bottoms': 1, ...</td>\n",
       "      <td>[35, 48, 68, 87, 111, 188, 237, 276, 342, 413,...</td>\n",
       "      <td>42</td>\n",
       "    </tr>\n",
       "    <tr>\n",
       "      <th>6</th>\n",
       "      <td>{'Tops': 1, 'Outerwear': 1, 'Bottoms': 1, 'Acc...</td>\n",
       "      <td>[43, 49, 130, 364, 423, 682, 746, 1551, 1948, ...</td>\n",
       "      <td>38</td>\n",
       "    </tr>\n",
       "    <tr>\n",
       "      <th>39</th>\n",
       "      <td>{'Bottoms': 1, 'Outerwear': 1, 'Tops': 2, 'Ear...</td>\n",
       "      <td>[478, 1934, 2072, 2539, 2717, 3147, 3201, 3264...</td>\n",
       "      <td>27</td>\n",
       "    </tr>\n",
       "    <tr>\n",
       "      <th>145</th>\n",
       "      <td>{'Home': 5, 'Accesories, Swim and Intimate': 2}</td>\n",
       "      <td>[4065, 4702, 4703, 5245, 5246, 5355, 5356, 543...</td>\n",
       "      <td>20</td>\n",
       "    </tr>\n",
       "  </tbody>\n",
       "</table>\n",
       "</div>"
      ],
      "text/plain": [
       "                                 des_product_class_set  \\\n",
       "9    {'Bottoms': 1, 'Tops': 1, 'Earrings': 1, 'Acce...   \n",
       "5    {'Earrings': 1, 'Outerwear': 1, 'Bottoms': 1, ...   \n",
       "6    {'Tops': 1, 'Outerwear': 1, 'Bottoms': 1, 'Acc...   \n",
       "39   {'Bottoms': 1, 'Outerwear': 1, 'Tops': 2, 'Ear...   \n",
       "145    {'Home': 5, 'Accesories, Swim and Intimate': 2}   \n",
       "\n",
       "                        des_product_class_outfit_codes  \\\n",
       "9    [72, 99, 202, 219, 244, 333, 382, 389, 572, 65...   \n",
       "5    [35, 48, 68, 87, 111, 188, 237, 276, 342, 413,...   \n",
       "6    [43, 49, 130, 364, 423, 682, 746, 1551, 1948, ...   \n",
       "39   [478, 1934, 2072, 2539, 2717, 3147, 3201, 3264...   \n",
       "145  [4065, 4702, 4703, 5245, 5246, 5355, 5356, 543...   \n",
       "\n",
       "     des_product_class_count  \n",
       "9                         45  \n",
       "5                         42  \n",
       "6                         38  \n",
       "39                        27  \n",
       "145                       20  "
      ]
     },
     "execution_count": 23,
     "metadata": {},
     "output_type": "execute_result"
    }
   ],
   "source": [
    "size = 7\n",
    "feature_name = 'des_product_class'\n",
    "name_set = 'outfit'\n",
    "code_sets = 'cod_outfit'\n",
    "\n",
    "result_df = get_grouped_counts_feature_values(df_outfit_products, code_sets, name_set, feature_name)\n",
    "tuple_set = result_df[result_df['outfit_size'] == size][f'cod_outfit_{feature_name}_tuple'].iloc[0]\n",
    "features_sets = get_unique_sets_features(tuple_set, feature_name)\n",
    "features_sets.head()"
   ]
  },
  {
   "cell_type": "code",
   "execution_count": 24,
   "id": "f528ce89-bdf0-4200-b794-82219798768e",
   "metadata": {},
   "outputs": [
    {
     "data": {
      "text/html": [
       "<div>\n",
       "<style scoped>\n",
       "    .dataframe tbody tr th:only-of-type {\n",
       "        vertical-align: middle;\n",
       "    }\n",
       "\n",
       "    .dataframe tbody tr th {\n",
       "        vertical-align: top;\n",
       "    }\n",
       "\n",
       "    .dataframe thead th {\n",
       "        text-align: right;\n",
       "    }\n",
       "</style>\n",
       "<table border=\"1\" class=\"dataframe\">\n",
       "  <thead>\n",
       "    <tr style=\"text-align: right;\">\n",
       "      <th></th>\n",
       "      <th>des_product_class_set</th>\n",
       "      <th>des_product_class_outfit_codes</th>\n",
       "      <th>des_product_class_count</th>\n",
       "    </tr>\n",
       "  </thead>\n",
       "  <tbody>\n",
       "    <tr>\n",
       "      <th>86</th>\n",
       "      <td>{'Tops': 2, 'Accesories, Swim and Intimate': 3...</td>\n",
       "      <td>[2504, 2915, 3241, 3242, 4118, 4387, 4970, 527...</td>\n",
       "      <td>18</td>\n",
       "    </tr>\n",
       "    <tr>\n",
       "      <th>9</th>\n",
       "      <td>{'Bottoms': 1, 'Outerwear': 1, 'Accesories, Sw...</td>\n",
       "      <td>[172, 455, 898, 963, 1360, 1451, 1477, 1495, 1...</td>\n",
       "      <td>12</td>\n",
       "    </tr>\n",
       "    <tr>\n",
       "      <th>100</th>\n",
       "      <td>{'Accesories, Swim and Intimate': 5, 'Tops': 1...</td>\n",
       "      <td>[3815, 4324, 4325, 5938, 6084, 6085, 6514, 651...</td>\n",
       "      <td>10</td>\n",
       "    </tr>\n",
       "    <tr>\n",
       "      <th>44</th>\n",
       "      <td>{'Bottoms': 2, 'Accesories, Swim and Intimate'...</td>\n",
       "      <td>[838, 3421, 5206, 5512, 5888, 5969, 6370, 6670...</td>\n",
       "      <td>10</td>\n",
       "    </tr>\n",
       "    <tr>\n",
       "      <th>88</th>\n",
       "      <td>{'Accesories, Swim and Intimate': 8}</td>\n",
       "      <td>[2638, 3415, 3994, 4006, 4445, 4460, 4952, 565...</td>\n",
       "      <td>9</td>\n",
       "    </tr>\n",
       "  </tbody>\n",
       "</table>\n",
       "</div>"
      ],
      "text/plain": [
       "                                 des_product_class_set  \\\n",
       "86   {'Tops': 2, 'Accesories, Swim and Intimate': 3...   \n",
       "9    {'Bottoms': 1, 'Outerwear': 1, 'Accesories, Sw...   \n",
       "100  {'Accesories, Swim and Intimate': 5, 'Tops': 1...   \n",
       "44   {'Bottoms': 2, 'Accesories, Swim and Intimate'...   \n",
       "88                {'Accesories, Swim and Intimate': 8}   \n",
       "\n",
       "                        des_product_class_outfit_codes  \\\n",
       "86   [2504, 2915, 3241, 3242, 4118, 4387, 4970, 527...   \n",
       "9    [172, 455, 898, 963, 1360, 1451, 1477, 1495, 1...   \n",
       "100  [3815, 4324, 4325, 5938, 6084, 6085, 6514, 651...   \n",
       "44   [838, 3421, 5206, 5512, 5888, 5969, 6370, 6670...   \n",
       "88   [2638, 3415, 3994, 4006, 4445, 4460, 4952, 565...   \n",
       "\n",
       "     des_product_class_count  \n",
       "86                        18  \n",
       "9                         12  \n",
       "100                       10  \n",
       "44                        10  \n",
       "88                         9  "
      ]
     },
     "execution_count": 24,
     "metadata": {},
     "output_type": "execute_result"
    }
   ],
   "source": [
    "size = 8\n",
    "feature_name = 'des_product_class'\n",
    "name_set = 'outfit'\n",
    "code_sets = 'cod_outfit'\n",
    "\n",
    "result_df = get_grouped_counts_feature_values(df_outfit_products, code_sets, name_set, feature_name)\n",
    "tuple_set = result_df[result_df['outfit_size'] == size][f'cod_outfit_{feature_name}_tuple'].iloc[0]\n",
    "features_sets = get_unique_sets_features(tuple_set, feature_name)\n",
    "features_sets.head()"
   ]
  },
  {
   "cell_type": "code",
   "execution_count": 25,
   "id": "113fcab8-d4d9-43ce-ab42-599695dfeef6",
   "metadata": {},
   "outputs": [
    {
     "data": {
      "text/html": [
       "<div>\n",
       "<style scoped>\n",
       "    .dataframe tbody tr th:only-of-type {\n",
       "        vertical-align: middle;\n",
       "    }\n",
       "\n",
       "    .dataframe tbody tr th {\n",
       "        vertical-align: top;\n",
       "    }\n",
       "\n",
       "    .dataframe thead th {\n",
       "        text-align: right;\n",
       "    }\n",
       "</style>\n",
       "<table border=\"1\" class=\"dataframe\">\n",
       "  <thead>\n",
       "    <tr style=\"text-align: right;\">\n",
       "      <th></th>\n",
       "      <th>des_product_class_set</th>\n",
       "      <th>des_product_class_outfit_codes</th>\n",
       "      <th>des_product_class_count</th>\n",
       "    </tr>\n",
       "  </thead>\n",
       "  <tbody>\n",
       "    <tr>\n",
       "      <th>31</th>\n",
       "      <td>{'Earrings': 4, 'Ring': 3, 'Necklace': 2}</td>\n",
       "      <td>[1045, 1046, 1047, 1264, 1417, 1849, 2050, 226...</td>\n",
       "      <td>9</td>\n",
       "    </tr>\n",
       "    <tr>\n",
       "      <th>65</th>\n",
       "      <td>{'Accesories, Swim and Intimate': 4, 'Tops': 1...</td>\n",
       "      <td>[3239, 3359, 4650, 6251, 7597]</td>\n",
       "      <td>5</td>\n",
       "    </tr>\n",
       "    <tr>\n",
       "      <th>61</th>\n",
       "      <td>{'Accesories, Swim and Intimate': 4, 'Tops': 2...</td>\n",
       "      <td>[3032, 5665, 7057, 7302, 7511]</td>\n",
       "      <td>5</td>\n",
       "    </tr>\n",
       "    <tr>\n",
       "      <th>73</th>\n",
       "      <td>{'Accesories, Swim and Intimate': 4, 'Tops': 2...</td>\n",
       "      <td>[4074, 5230, 5231, 7067, 7506]</td>\n",
       "      <td>5</td>\n",
       "    </tr>\n",
       "    <tr>\n",
       "      <th>39</th>\n",
       "      <td>{'Bottoms': 2, 'Tops': 1, 'Outerwear': 1, 'Acc...</td>\n",
       "      <td>[1463, 1974, 2995, 3879]</td>\n",
       "      <td>4</td>\n",
       "    </tr>\n",
       "  </tbody>\n",
       "</table>\n",
       "</div>"
      ],
      "text/plain": [
       "                                des_product_class_set  \\\n",
       "31          {'Earrings': 4, 'Ring': 3, 'Necklace': 2}   \n",
       "65  {'Accesories, Swim and Intimate': 4, 'Tops': 1...   \n",
       "61  {'Accesories, Swim and Intimate': 4, 'Tops': 2...   \n",
       "73  {'Accesories, Swim and Intimate': 4, 'Tops': 2...   \n",
       "39  {'Bottoms': 2, 'Tops': 1, 'Outerwear': 1, 'Acc...   \n",
       "\n",
       "                       des_product_class_outfit_codes  des_product_class_count  \n",
       "31  [1045, 1046, 1047, 1264, 1417, 1849, 2050, 226...                        9  \n",
       "65                     [3239, 3359, 4650, 6251, 7597]                        5  \n",
       "61                     [3032, 5665, 7057, 7302, 7511]                        5  \n",
       "73                     [4074, 5230, 5231, 7067, 7506]                        5  \n",
       "39                           [1463, 1974, 2995, 3879]                        4  "
      ]
     },
     "execution_count": 25,
     "metadata": {},
     "output_type": "execute_result"
    }
   ],
   "source": [
    "size = 9\n",
    "feature_name = 'des_product_class'\n",
    "name_set = 'outfit'\n",
    "code_sets = 'cod_outfit'\n",
    "\n",
    "result_df = get_grouped_counts_feature_values(df_outfit_products, code_sets, name_set, feature_name)\n",
    "tuple_set = result_df[result_df['outfit_size'] == size][f'cod_outfit_{feature_name}_tuple'].iloc[0]\n",
    "features_sets = get_unique_sets_features(tuple_set, feature_name)\n",
    "features_sets.head()"
   ]
  },
  {
   "cell_type": "code",
   "execution_count": 26,
   "id": "ced48827-f8a0-4146-9e9f-6f7caf737da2",
   "metadata": {},
   "outputs": [
    {
     "data": {
      "text/html": [
       "<div>\n",
       "<style scoped>\n",
       "    .dataframe tbody tr th:only-of-type {\n",
       "        vertical-align: middle;\n",
       "    }\n",
       "\n",
       "    .dataframe tbody tr th {\n",
       "        vertical-align: top;\n",
       "    }\n",
       "\n",
       "    .dataframe thead th {\n",
       "        text-align: right;\n",
       "    }\n",
       "</style>\n",
       "<table border=\"1\" class=\"dataframe\">\n",
       "  <thead>\n",
       "    <tr style=\"text-align: right;\">\n",
       "      <th></th>\n",
       "      <th>des_product_class_set</th>\n",
       "      <th>des_product_class_outfit_codes</th>\n",
       "      <th>des_product_class_count</th>\n",
       "    </tr>\n",
       "  </thead>\n",
       "  <tbody>\n",
       "    <tr>\n",
       "      <th>39</th>\n",
       "      <td>{'Accesories, Swim and Intimate': 10}</td>\n",
       "      <td>[2606, 2637, 4002, 4454, 4456, 4960, 5661, 5662]</td>\n",
       "      <td>8</td>\n",
       "    </tr>\n",
       "    <tr>\n",
       "      <th>2</th>\n",
       "      <td>{'Bottoms': 1, 'Earrings': 1, 'Necklace': 2, '...</td>\n",
       "      <td>[92, 204, 607, 628]</td>\n",
       "      <td>4</td>\n",
       "    </tr>\n",
       "    <tr>\n",
       "      <th>12</th>\n",
       "      <td>{'Earrings': 1, 'Outerwear': 1, 'Bottoms': 1, ...</td>\n",
       "      <td>[761, 1686, 4262]</td>\n",
       "      <td>3</td>\n",
       "    </tr>\n",
       "    <tr>\n",
       "      <th>14</th>\n",
       "      <td>{'Bottoms': 1, 'Earrings': 1, 'Necklace': 2, '...</td>\n",
       "      <td>[820, 1190, 1795]</td>\n",
       "      <td>3</td>\n",
       "    </tr>\n",
       "    <tr>\n",
       "      <th>0</th>\n",
       "      <td>{'Necklace': 2, 'Accesories, Swim and Intimate...</td>\n",
       "      <td>[4, 2182]</td>\n",
       "      <td>2</td>\n",
       "    </tr>\n",
       "  </tbody>\n",
       "</table>\n",
       "</div>"
      ],
      "text/plain": [
       "                                des_product_class_set  \\\n",
       "39              {'Accesories, Swim and Intimate': 10}   \n",
       "2   {'Bottoms': 1, 'Earrings': 1, 'Necklace': 2, '...   \n",
       "12  {'Earrings': 1, 'Outerwear': 1, 'Bottoms': 1, ...   \n",
       "14  {'Bottoms': 1, 'Earrings': 1, 'Necklace': 2, '...   \n",
       "0   {'Necklace': 2, 'Accesories, Swim and Intimate...   \n",
       "\n",
       "                      des_product_class_outfit_codes  des_product_class_count  \n",
       "39  [2606, 2637, 4002, 4454, 4456, 4960, 5661, 5662]                        8  \n",
       "2                                [92, 204, 607, 628]                        4  \n",
       "12                                 [761, 1686, 4262]                        3  \n",
       "14                                 [820, 1190, 1795]                        3  \n",
       "0                                          [4, 2182]                        2  "
      ]
     },
     "execution_count": 26,
     "metadata": {},
     "output_type": "execute_result"
    }
   ],
   "source": [
    "size = 10\n",
    "feature_name = 'des_product_class'\n",
    "name_set = 'outfit'\n",
    "code_sets = 'cod_outfit'\n",
    "\n",
    "result_df = get_grouped_counts_feature_values(df_outfit_products, code_sets, name_set, feature_name)\n",
    "tuple_set = result_df[result_df['outfit_size'] == size][f'cod_outfit_{feature_name}_tuple'].iloc[0]\n",
    "features_sets = get_unique_sets_features(tuple_set, feature_name)\n",
    "features_sets.head()"
   ]
  },
  {
   "cell_type": "markdown",
   "id": "586bdd28-82fb-4472-a716-d5e5aaf41b0e",
   "metadata": {},
   "source": [
    "# Defining valid outfit combinations\n",
    "\n",
    "Upon reviewing all the outfits, we can establish some rules for selecting valid combinations:\n",
    "\n",
    "In addition to these observations, we can define a rule for constructing the outfits:\n",
    "\n",
    "    The foundation of the outfits must consist of one of the following sets:\n",
    "        Tops + Bottoms + Footwear + Earrings + Accessories\n",
    "        Dress + Footwear + Earrings + Accessories\n",
    "\n",
    "    The outfit can optionally include the following complements:\n",
    "        Outerwear, Bags, Glasses, Ring, and Necklace\n",
    "\n",
    "We get, that a valid outfit is a configuration base plus (or\n",
    "not) a possible configuration of complements, each comple-\n",
    "ment, cannot appear more than once in the configuration.\n",
    "And so we get 42 possible configuration for the outfits, and\n",
    "each outfit can reach up to 10 products of different classes\n",
    "\n",
    "\n",
    "NOTE: Looking at outfits with sizes 2 or higher or equal than\n",
    "9, we observe that didn’t reach the conditions for being\n",
    "a valid outfit."
   ]
  },
  {
   "cell_type": "code",
   "execution_count": 27,
   "id": "bc9d56d4-165d-4471-93ee-e0e841c847db",
   "metadata": {},
   "outputs": [
    {
     "name": "stdout",
     "output_type": "stream",
     "text": [
      "Number of Total possible configurations of BASE products: 2\n",
      "Number of Total possible configurations of OPTIONAL products: 20\n",
      "Number of Total possible configurations: 42\n"
     ]
    }
   ],
   "source": [
    "configurations_base = config['data']['configurations_base']\n",
    "\n",
    "optional_products = config['data']['optional_products']\n",
    "\n",
    "optional_configurations = create_combinations(optional_products, root = False)\n",
    "\n",
    "all_configurations = create_configurations(configurations_base, optional_products)\n",
    "\n",
    "print(\"Number of Total possible configurations of BASE products:\", len(configurations_base))\n",
    "print(\"Number of Total possible configurations of OPTIONAL products:\", len(optional_configurations))\n",
    "print(\"Number of Total possible configurations:\", len(all_configurations))"
   ]
  },
  {
   "cell_type": "code",
   "execution_count": 34,
   "id": "690cddd4-6e36-4fcd-9a8a-d1385b9d4bce",
   "metadata": {},
   "outputs": [
    {
     "name": "stdout",
     "output_type": "stream",
     "text": [
      "Total number of outfits selected: 0\n"
     ]
    }
   ],
   "source": [
    "feature_name = 'des_product_class'\n",
    "code_sets = 'cod_outfit'\n",
    "name_set = 'outfit'\n",
    "result_df = get_grouped_counts_feature_values(df_outfit_products, code_sets, name_set, feature_name)\n",
    "\n",
    "selected_outfits = []\n",
    "configurations_count = {}\n",
    "\n",
    "\n",
    "for size in range(3, 9):\n",
    "    outfit_products_list = result_df[result_df['outfit_size'] == size][f'{code_sets}_{feature_name}_tuple']\n",
    "    for out_prod in list(outfit_products_list)[0]:\n",
    "        for i, conf in enumerate(all_configurations[:1]):\n",
    "            if Counter(out_prod[1]) == Counter(conf):\n",
    "                print(\"hola\")\n",
    "                configurations_count[i] = configurations_count.get(i, 0) + 1\n",
    "                selected_outfits.append(out_prod[0])\n",
    "\n",
    "print(\"Total number of outfits selected:\", len(selected_outfits))\n",
    "\n",
    "columns = ['cod_outfit','cod_modelo_color','des_product_class' ,'des_filename']\n",
    "df_outfit_products_sel = df_outfit_products[df_outfit_products['cod_outfit'].isin(selected_outfits)][columns]\n",
    "df_outfit_products_sel.head()\n",
    "\n",
    "configurations_count_df = pd.DataFrame(list(configurations_count.items()), columns=['conf_id', 'size_conf'])\n",
    "configurations_count_df['conf_id'] = configurations_count_df['conf_id'].astype(int)\n",
    "configurations_count_df['prob_conf'] = configurations_count_df['size_conf'] / sum(configurations_count_df['size_conf'])\n"
   ]
  },
  {
   "cell_type": "code",
   "execution_count": 35,
   "id": "f619716a-b211-4b28-a984-5ca3fad77d14",
   "metadata": {},
   "outputs": [
    {
     "data": {
      "text/html": [
       "<div>\n",
       "<style scoped>\n",
       "    .dataframe tbody tr th:only-of-type {\n",
       "        vertical-align: middle;\n",
       "    }\n",
       "\n",
       "    .dataframe tbody tr th {\n",
       "        vertical-align: top;\n",
       "    }\n",
       "\n",
       "    .dataframe thead th {\n",
       "        text-align: right;\n",
       "    }\n",
       "</style>\n",
       "<table border=\"1\" class=\"dataframe\">\n",
       "  <thead>\n",
       "    <tr style=\"text-align: right;\">\n",
       "      <th></th>\n",
       "      <th>cod_outfit</th>\n",
       "      <th>cod_modelo_color</th>\n",
       "      <th>des_product_class</th>\n",
       "      <th>des_filename</th>\n",
       "    </tr>\n",
       "  </thead>\n",
       "  <tbody>\n",
       "  </tbody>\n",
       "</table>\n",
       "</div>"
      ],
      "text/plain": [
       "Empty DataFrame\n",
       "Columns: [cod_outfit, cod_modelo_color, des_product_class, des_filename]\n",
       "Index: []"
      ]
     },
     "execution_count": 35,
     "metadata": {},
     "output_type": "execute_result"
    }
   ],
   "source": [
    "df_outfit_products_sel"
   ]
  },
  {
   "cell_type": "code",
   "execution_count": null,
   "id": "2d539636-f4de-4dda-bb9a-8156e65e0561",
   "metadata": {},
   "outputs": [],
   "source": []
  }
 ],
 "metadata": {
  "kernelspec": {
   "display_name": "Python 3 (ipykernel)",
   "language": "python",
   "name": "python3"
  },
  "language_info": {
   "codemirror_mode": {
    "name": "ipython",
    "version": 3
   },
   "file_extension": ".py",
   "mimetype": "text/x-python",
   "name": "python",
   "nbconvert_exporter": "python",
   "pygments_lexer": "ipython3",
   "version": "3.10.12"
  }
 },
 "nbformat": 4,
 "nbformat_minor": 5
}
